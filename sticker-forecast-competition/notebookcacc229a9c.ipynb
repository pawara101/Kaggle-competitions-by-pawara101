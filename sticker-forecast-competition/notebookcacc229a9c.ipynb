{
 "cells": [
  {
   "cell_type": "code",
   "execution_count": 1,
   "id": "21db45cf",
   "metadata": {
    "_cell_guid": "b1076dfc-b9ad-4769-8c92-a6c4dae69d19",
    "_uuid": "8f2839f25d086af736a60e9eeb907d3b93b6e0e5",
    "execution": {
     "iopub.execute_input": "2025-03-16T13:19:17.971032Z",
     "iopub.status.busy": "2025-03-16T13:19:17.970670Z",
     "iopub.status.idle": "2025-03-16T13:19:18.949629Z",
     "shell.execute_reply": "2025-03-16T13:19:18.948409Z"
    },
    "papermill": {
     "duration": 0.993378,
     "end_time": "2025-03-16T13:19:18.951363",
     "exception": false,
     "start_time": "2025-03-16T13:19:17.957985",
     "status": "completed"
    },
    "tags": []
   },
   "outputs": [
    {
     "name": "stdout",
     "output_type": "stream",
     "text": [
      "/kaggle/input/playground-series-s5e1/sample_submission.csv\n",
      "/kaggle/input/playground-series-s5e1/train.csv\n",
      "/kaggle/input/playground-series-s5e1/test.csv\n"
     ]
    }
   ],
   "source": [
    "# This Python 3 environment comes with many helpful analytics libraries installed\n",
    "# It is defined by the kaggle/python Docker image: https://github.com/kaggle/docker-python\n",
    "# For example, here's several helpful packages to load\n",
    "\n",
    "import numpy as np # linear algebra\n",
    "import pandas as pd # data processing, CSV file I/O (e.g. pd.read_csv)\n",
    "\n",
    "# Input data files are available in the read-only \"../input/\" directory\n",
    "# For example, running this (by clicking run or pressing Shift+Enter) will list all files under the input directory\n",
    "\n",
    "import os\n",
    "for dirname, _, filenames in os.walk('/kaggle/input'):\n",
    "    for filename in filenames:\n",
    "        print(os.path.join(dirname, filename))\n",
    "\n",
    "# You can write up to 20GB to the current directory (/kaggle/working/) that gets preserved as output when you create a version using \"Save & Run All\" \n",
    "# You can also write temporary files to /kaggle/temp/, but they won't be saved outside of the current session"
   ]
  },
  {
   "cell_type": "markdown",
   "id": "2b566e30",
   "metadata": {
    "papermill": {
     "duration": 0.009818,
     "end_time": "2025-03-16T13:19:18.972036",
     "exception": false,
     "start_time": "2025-03-16T13:19:18.962218",
     "status": "completed"
    },
    "tags": []
   },
   "source": [
    "## Import Libraries"
   ]
  },
  {
   "cell_type": "code",
   "execution_count": 2,
   "id": "2196b8ff",
   "metadata": {
    "execution": {
     "iopub.execute_input": "2025-03-16T13:19:18.993850Z",
     "iopub.status.busy": "2025-03-16T13:19:18.993310Z",
     "iopub.status.idle": "2025-03-16T13:19:20.870898Z",
     "shell.execute_reply": "2025-03-16T13:19:20.869903Z"
    },
    "papermill": {
     "duration": 1.891083,
     "end_time": "2025-03-16T13:19:20.873237",
     "exception": false,
     "start_time": "2025-03-16T13:19:18.982154",
     "status": "completed"
    },
    "tags": []
   },
   "outputs": [],
   "source": [
    "import seaborn as sns\n",
    "import matplotlib.pyplot as plt"
   ]
  },
  {
   "cell_type": "code",
   "execution_count": 3,
   "id": "37434f81",
   "metadata": {
    "execution": {
     "iopub.execute_input": "2025-03-16T13:19:20.896314Z",
     "iopub.status.busy": "2025-03-16T13:19:20.895793Z",
     "iopub.status.idle": "2025-03-16T13:19:21.495032Z",
     "shell.execute_reply": "2025-03-16T13:19:21.493881Z"
    },
    "papermill": {
     "duration": 0.612936,
     "end_time": "2025-03-16T13:19:21.496961",
     "exception": false,
     "start_time": "2025-03-16T13:19:20.884025",
     "status": "completed"
    },
    "tags": []
   },
   "outputs": [
    {
     "name": "stdout",
     "output_type": "stream",
     "text": [
      "==== train data ====\n",
      "   id        date country              store             product  num_sold\n",
      "0   0  2010-01-01  Canada  Discount Stickers   Holographic Goose       NaN\n",
      "1   1  2010-01-01  Canada  Discount Stickers              Kaggle     973.0\n",
      "2   2  2010-01-01  Canada  Discount Stickers        Kaggle Tiers     906.0\n",
      "3   3  2010-01-01  Canada  Discount Stickers            Kerneler     423.0\n",
      "4   4  2010-01-01  Canada  Discount Stickers  Kerneler Dark Mode     491.0\n",
      "\n",
      "\n",
      "==== test data ====\n",
      "       id        date country              store             product\n",
      "0  230130  2017-01-01  Canada  Discount Stickers   Holographic Goose\n",
      "1  230131  2017-01-01  Canada  Discount Stickers              Kaggle\n",
      "2  230132  2017-01-01  Canada  Discount Stickers        Kaggle Tiers\n",
      "3  230133  2017-01-01  Canada  Discount Stickers            Kerneler\n",
      "4  230134  2017-01-01  Canada  Discount Stickers  Kerneler Dark Mode\n"
     ]
    },
    {
     "name": "stderr",
     "output_type": "stream",
     "text": [
      "/usr/local/lib/python3.10/dist-packages/pandas/io/formats/format.py:1458: RuntimeWarning: invalid value encountered in greater\n",
      "  has_large_values = (abs_vals > 1e6).any()\n",
      "/usr/local/lib/python3.10/dist-packages/pandas/io/formats/format.py:1459: RuntimeWarning: invalid value encountered in less\n",
      "  has_small_values = ((abs_vals < 10 ** (-self.digits)) & (abs_vals > 0)).any()\n",
      "/usr/local/lib/python3.10/dist-packages/pandas/io/formats/format.py:1459: RuntimeWarning: invalid value encountered in greater\n",
      "  has_small_values = ((abs_vals < 10 ** (-self.digits)) & (abs_vals > 0)).any()\n"
     ]
    }
   ],
   "source": [
    "train = pd.read_csv('/kaggle/input/playground-series-s5e1/train.csv')\n",
    "print(\"==== train data ====\")\n",
    "print(train.head())\n",
    "test = pd.read_csv('/kaggle/input/playground-series-s5e1/test.csv')\n",
    "print('\\n')\n",
    "print(\"==== test data ====\")\n",
    "print(test.head())"
   ]
  },
  {
   "cell_type": "markdown",
   "id": "c6c0657f",
   "metadata": {
    "papermill": {
     "duration": 0.010039,
     "end_time": "2025-03-16T13:19:21.517547",
     "exception": false,
     "start_time": "2025-03-16T13:19:21.507508",
     "status": "completed"
    },
    "tags": []
   },
   "source": [
    "## Train data \n",
    "- check columns and their classes"
   ]
  },
  {
   "cell_type": "code",
   "execution_count": 4,
   "id": "79ff30c7",
   "metadata": {
    "execution": {
     "iopub.execute_input": "2025-03-16T13:19:21.539855Z",
     "iopub.status.busy": "2025-03-16T13:19:21.539473Z",
     "iopub.status.idle": "2025-03-16T13:19:21.545068Z",
     "shell.execute_reply": "2025-03-16T13:19:21.543659Z"
    },
    "papermill": {
     "duration": 0.018778,
     "end_time": "2025-03-16T13:19:21.546870",
     "exception": false,
     "start_time": "2025-03-16T13:19:21.528092",
     "status": "completed"
    },
    "tags": []
   },
   "outputs": [
    {
     "name": "stdout",
     "output_type": "stream",
     "text": [
      "['id', 'date', 'country', 'store', 'product', 'num_sold']\n"
     ]
    }
   ],
   "source": [
    "train_cols = train.columns.to_list()\n",
    "print(train_cols)"
   ]
  },
  {
   "cell_type": "markdown",
   "id": "c20ec538",
   "metadata": {
    "papermill": {
     "duration": 0.009933,
     "end_time": "2025-03-16T13:19:21.567278",
     "exception": false,
     "start_time": "2025-03-16T13:19:21.557345",
     "status": "completed"
    },
    "tags": []
   },
   "source": [
    "Check for missing values"
   ]
  },
  {
   "cell_type": "code",
   "execution_count": 5,
   "id": "0cbe3ebe",
   "metadata": {
    "execution": {
     "iopub.execute_input": "2025-03-16T13:19:21.589479Z",
     "iopub.status.busy": "2025-03-16T13:19:21.589117Z",
     "iopub.status.idle": "2025-03-16T13:19:21.645350Z",
     "shell.execute_reply": "2025-03-16T13:19:21.644227Z"
    },
    "papermill": {
     "duration": 0.069257,
     "end_time": "2025-03-16T13:19:21.647255",
     "exception": false,
     "start_time": "2025-03-16T13:19:21.577998",
     "status": "completed"
    },
    "tags": []
   },
   "outputs": [
    {
     "name": "stdout",
     "output_type": "stream",
     "text": [
      "id:0\n",
      "date:0\n",
      "country:0\n",
      "store:0\n",
      "product:0\n",
      "num_sold:8871\n"
     ]
    }
   ],
   "source": [
    "for i in train_cols:\n",
    "    print(f'{i}:{train[i].isna().sum()}')"
   ]
  },
  {
   "cell_type": "markdown",
   "id": "a683e1fd",
   "metadata": {
    "papermill": {
     "duration": 0.010324,
     "end_time": "2025-03-16T13:19:21.668370",
     "exception": false,
     "start_time": "2025-03-16T13:19:21.658046",
     "status": "completed"
    },
    "tags": []
   },
   "source": [
    "Unique values"
   ]
  },
  {
   "cell_type": "code",
   "execution_count": 6,
   "id": "00878941",
   "metadata": {
    "execution": {
     "iopub.execute_input": "2025-03-16T13:19:21.690422Z",
     "iopub.status.busy": "2025-03-16T13:19:21.690092Z",
     "iopub.status.idle": "2025-03-16T13:19:21.776197Z",
     "shell.execute_reply": "2025-03-16T13:19:21.774925Z"
    },
    "papermill": {
     "duration": 0.099047,
     "end_time": "2025-03-16T13:19:21.778051",
     "exception": false,
     "start_time": "2025-03-16T13:19:21.679004",
     "status": "completed"
    },
    "tags": []
   },
   "outputs": [
    {
     "name": "stdout",
     "output_type": "stream",
     "text": [
      "id:230130\n",
      "date:2557\n",
      "country:6\n",
      "store:3\n",
      "product:5\n",
      "num_sold:4038\n"
     ]
    }
   ],
   "source": [
    "for i in train_cols:\n",
    "    print(f'{i}:{len(train[i].unique())}')"
   ]
  },
  {
   "cell_type": "code",
   "execution_count": 7,
   "id": "5cb8256b",
   "metadata": {
    "execution": {
     "iopub.execute_input": "2025-03-16T13:19:21.800547Z",
     "iopub.status.busy": "2025-03-16T13:19:21.800210Z",
     "iopub.status.idle": "2025-03-16T13:19:21.807902Z",
     "shell.execute_reply": "2025-03-16T13:19:21.806860Z"
    },
    "papermill": {
     "duration": 0.020566,
     "end_time": "2025-03-16T13:19:21.809415",
     "exception": false,
     "start_time": "2025-03-16T13:19:21.788849",
     "status": "completed"
    },
    "tags": []
   },
   "outputs": [
    {
     "data": {
      "text/plain": [
       "id            int64\n",
       "date         object\n",
       "country      object\n",
       "store        object\n",
       "product      object\n",
       "num_sold    float64\n",
       "dtype: object"
      ]
     },
     "execution_count": 7,
     "metadata": {},
     "output_type": "execute_result"
    }
   ],
   "source": [
    "train.dtypes"
   ]
  },
  {
   "cell_type": "code",
   "execution_count": 8,
   "id": "b5e291bf",
   "metadata": {
    "execution": {
     "iopub.execute_input": "2025-03-16T13:19:21.832417Z",
     "iopub.status.busy": "2025-03-16T13:19:21.832095Z",
     "iopub.status.idle": "2025-03-16T13:19:21.880856Z",
     "shell.execute_reply": "2025-03-16T13:19:21.879682Z"
    },
    "papermill": {
     "duration": 0.061978,
     "end_time": "2025-03-16T13:19:21.882489",
     "exception": false,
     "start_time": "2025-03-16T13:19:21.820511",
     "status": "completed"
    },
    "tags": []
   },
   "outputs": [
    {
     "name": "stdout",
     "output_type": "stream",
     "text": [
      "['Canada' 'Finland' 'Italy' 'Kenya' 'Norway' 'Singapore']\n",
      "['Discount Stickers' 'Stickers for Less' 'Premium Sticker Mart']\n",
      "['Holographic Goose' 'Kaggle' 'Kaggle Tiers' 'Kerneler'\n",
      " 'Kerneler Dark Mode']\n"
     ]
    }
   ],
   "source": [
    "print(f'{train.country.unique()}')\n",
    "print(f'{train.store.unique()}')\n",
    "print(train['product'].unique())"
   ]
  },
  {
   "cell_type": "markdown",
   "id": "d3414ac1",
   "metadata": {
    "papermill": {
     "duration": 0.010345,
     "end_time": "2025-03-16T13:19:21.904211",
     "exception": false,
     "start_time": "2025-03-16T13:19:21.893866",
     "status": "completed"
    },
    "tags": []
   },
   "source": [
    "## Test Data"
   ]
  },
  {
   "cell_type": "code",
   "execution_count": 9,
   "id": "82e75171",
   "metadata": {
    "execution": {
     "iopub.execute_input": "2025-03-16T13:19:21.926772Z",
     "iopub.status.busy": "2025-03-16T13:19:21.926371Z",
     "iopub.status.idle": "2025-03-16T13:19:21.932106Z",
     "shell.execute_reply": "2025-03-16T13:19:21.931010Z"
    },
    "papermill": {
     "duration": 0.019266,
     "end_time": "2025-03-16T13:19:21.934120",
     "exception": false,
     "start_time": "2025-03-16T13:19:21.914854",
     "status": "completed"
    },
    "tags": []
   },
   "outputs": [
    {
     "name": "stdout",
     "output_type": "stream",
     "text": [
      "['id', 'date', 'country', 'store', 'product']\n"
     ]
    }
   ],
   "source": [
    "test_cols = test.columns.to_list()\n",
    "print(test_cols)"
   ]
  },
  {
   "cell_type": "code",
   "execution_count": 10,
   "id": "338daf5a",
   "metadata": {
    "execution": {
     "iopub.execute_input": "2025-03-16T13:19:21.956927Z",
     "iopub.status.busy": "2025-03-16T13:19:21.956522Z",
     "iopub.status.idle": "2025-03-16T13:19:21.983724Z",
     "shell.execute_reply": "2025-03-16T13:19:21.982713Z"
    },
    "papermill": {
     "duration": 0.040415,
     "end_time": "2025-03-16T13:19:21.985390",
     "exception": false,
     "start_time": "2025-03-16T13:19:21.944975",
     "status": "completed"
    },
    "tags": []
   },
   "outputs": [
    {
     "name": "stdout",
     "output_type": "stream",
     "text": [
      "id:0\n",
      "date:0\n",
      "country:0\n",
      "store:0\n",
      "product:0\n"
     ]
    }
   ],
   "source": [
    "for i in test_cols:\n",
    "    print(f'{i}:{test[i].isna().sum()}')"
   ]
  },
  {
   "cell_type": "code",
   "execution_count": 11,
   "id": "34e8dd4f",
   "metadata": {
    "execution": {
     "iopub.execute_input": "2025-03-16T13:19:22.008907Z",
     "iopub.status.busy": "2025-03-16T13:19:22.008464Z",
     "iopub.status.idle": "2025-03-16T13:19:22.038492Z",
     "shell.execute_reply": "2025-03-16T13:19:22.037380Z"
    },
    "papermill": {
     "duration": 0.043389,
     "end_time": "2025-03-16T13:19:22.040234",
     "exception": false,
     "start_time": "2025-03-16T13:19:21.996845",
     "status": "completed"
    },
    "tags": []
   },
   "outputs": [
    {
     "name": "stdout",
     "output_type": "stream",
     "text": [
      "id:98550\n",
      "date:1095\n",
      "country:6\n",
      "store:3\n",
      "product:5\n"
     ]
    }
   ],
   "source": [
    "for i in test_cols:\n",
    "    print(f'{i}:{len(test[i].unique())}')"
   ]
  },
  {
   "cell_type": "code",
   "execution_count": 12,
   "id": "df4e1b95",
   "metadata": {
    "execution": {
     "iopub.execute_input": "2025-03-16T13:19:22.064071Z",
     "iopub.status.busy": "2025-03-16T13:19:22.063427Z",
     "iopub.status.idle": "2025-03-16T13:19:22.087243Z",
     "shell.execute_reply": "2025-03-16T13:19:22.085829Z"
    },
    "papermill": {
     "duration": 0.037905,
     "end_time": "2025-03-16T13:19:22.089267",
     "exception": false,
     "start_time": "2025-03-16T13:19:22.051362",
     "status": "completed"
    },
    "tags": []
   },
   "outputs": [
    {
     "name": "stdout",
     "output_type": "stream",
     "text": [
      "['Canada' 'Finland' 'Italy' 'Kenya' 'Norway' 'Singapore']\n",
      "['Discount Stickers' 'Stickers for Less' 'Premium Sticker Mart']\n",
      "['Holographic Goose' 'Kaggle' 'Kaggle Tiers' 'Kerneler'\n",
      " 'Kerneler Dark Mode']\n"
     ]
    }
   ],
   "source": [
    "print(f'{test.country.unique()}')\n",
    "print(f'{test.store.unique()}')\n",
    "print(test['product'].unique())"
   ]
  },
  {
   "cell_type": "code",
   "execution_count": 13,
   "id": "42345861",
   "metadata": {
    "execution": {
     "iopub.execute_input": "2025-03-16T13:19:22.112801Z",
     "iopub.status.busy": "2025-03-16T13:19:22.112386Z",
     "iopub.status.idle": "2025-03-16T13:19:22.119525Z",
     "shell.execute_reply": "2025-03-16T13:19:22.118461Z"
    },
    "papermill": {
     "duration": 0.020785,
     "end_time": "2025-03-16T13:19:22.121197",
     "exception": false,
     "start_time": "2025-03-16T13:19:22.100412",
     "status": "completed"
    },
    "tags": []
   },
   "outputs": [
    {
     "data": {
      "text/plain": [
       "id          int64\n",
       "date       object\n",
       "country    object\n",
       "store      object\n",
       "product    object\n",
       "dtype: object"
      ]
     },
     "execution_count": 13,
     "metadata": {},
     "output_type": "execute_result"
    }
   ],
   "source": [
    "test.dtypes"
   ]
  },
  {
   "cell_type": "markdown",
   "id": "154a5390",
   "metadata": {
    "papermill": {
     "duration": 0.010955,
     "end_time": "2025-03-16T13:19:22.143487",
     "exception": false,
     "start_time": "2025-03-16T13:19:22.132532",
     "status": "completed"
    },
    "tags": []
   },
   "source": [
    "## Preprocessing : Train"
   ]
  },
  {
   "cell_type": "code",
   "execution_count": 14,
   "id": "6afa4c4a",
   "metadata": {
    "execution": {
     "iopub.execute_input": "2025-03-16T13:19:22.167246Z",
     "iopub.status.busy": "2025-03-16T13:19:22.166871Z",
     "iopub.status.idle": "2025-03-16T13:19:22.181940Z",
     "shell.execute_reply": "2025-03-16T13:19:22.180708Z"
    },
    "papermill": {
     "duration": 0.029071,
     "end_time": "2025-03-16T13:19:22.183879",
     "exception": false,
     "start_time": "2025-03-16T13:19:22.154808",
     "status": "completed"
    },
    "tags": []
   },
   "outputs": [],
   "source": [
    "train_preprocess = train.copy()"
   ]
  },
  {
   "cell_type": "code",
   "execution_count": 15,
   "id": "e0de1330",
   "metadata": {
    "execution": {
     "iopub.execute_input": "2025-03-16T13:19:22.207259Z",
     "iopub.status.busy": "2025-03-16T13:19:22.206885Z",
     "iopub.status.idle": "2025-03-16T13:19:22.365153Z",
     "shell.execute_reply": "2025-03-16T13:19:22.363990Z"
    },
    "papermill": {
     "duration": 0.172111,
     "end_time": "2025-03-16T13:19:22.367066",
     "exception": false,
     "start_time": "2025-03-16T13:19:22.194955",
     "status": "completed"
    },
    "tags": []
   },
   "outputs": [],
   "source": [
    "train_preprocess['date'] = pd.to_datetime(train_preprocess['date'].to_list())"
   ]
  },
  {
   "cell_type": "code",
   "execution_count": 16,
   "id": "ca691f16",
   "metadata": {
    "execution": {
     "iopub.execute_input": "2025-03-16T13:19:22.390438Z",
     "iopub.status.busy": "2025-03-16T13:19:22.390068Z",
     "iopub.status.idle": "2025-03-16T13:19:22.396946Z",
     "shell.execute_reply": "2025-03-16T13:19:22.395922Z"
    },
    "papermill": {
     "duration": 0.020632,
     "end_time": "2025-03-16T13:19:22.398767",
     "exception": false,
     "start_time": "2025-03-16T13:19:22.378135",
     "status": "completed"
    },
    "tags": []
   },
   "outputs": [
    {
     "data": {
      "text/plain": [
       "id                   int64\n",
       "date        datetime64[ns]\n",
       "country             object\n",
       "store               object\n",
       "product             object\n",
       "num_sold           float64\n",
       "dtype: object"
      ]
     },
     "execution_count": 16,
     "metadata": {},
     "output_type": "execute_result"
    }
   ],
   "source": [
    "train_preprocess.dtypes"
   ]
  },
  {
   "cell_type": "code",
   "execution_count": 17,
   "id": "85396560",
   "metadata": {
    "execution": {
     "iopub.execute_input": "2025-03-16T13:19:22.423072Z",
     "iopub.status.busy": "2025-03-16T13:19:22.422684Z",
     "iopub.status.idle": "2025-03-16T13:19:22.438428Z",
     "shell.execute_reply": "2025-03-16T13:19:22.437065Z"
    },
    "papermill": {
     "duration": 0.030043,
     "end_time": "2025-03-16T13:19:22.440077",
     "exception": false,
     "start_time": "2025-03-16T13:19:22.410034",
     "status": "completed"
    },
    "tags": []
   },
   "outputs": [
    {
     "name": "stderr",
     "output_type": "stream",
     "text": [
      "/usr/local/lib/python3.10/dist-packages/pandas/io/formats/format.py:1458: RuntimeWarning: invalid value encountered in greater\n",
      "  has_large_values = (abs_vals > 1e6).any()\n",
      "/usr/local/lib/python3.10/dist-packages/pandas/io/formats/format.py:1459: RuntimeWarning: invalid value encountered in less\n",
      "  has_small_values = ((abs_vals < 10 ** (-self.digits)) & (abs_vals > 0)).any()\n",
      "/usr/local/lib/python3.10/dist-packages/pandas/io/formats/format.py:1459: RuntimeWarning: invalid value encountered in greater\n",
      "  has_small_values = ((abs_vals < 10 ** (-self.digits)) & (abs_vals > 0)).any()\n"
     ]
    },
    {
     "data": {
      "text/html": [
       "<div>\n",
       "<style scoped>\n",
       "    .dataframe tbody tr th:only-of-type {\n",
       "        vertical-align: middle;\n",
       "    }\n",
       "\n",
       "    .dataframe tbody tr th {\n",
       "        vertical-align: top;\n",
       "    }\n",
       "\n",
       "    .dataframe thead th {\n",
       "        text-align: right;\n",
       "    }\n",
       "</style>\n",
       "<table border=\"1\" class=\"dataframe\">\n",
       "  <thead>\n",
       "    <tr style=\"text-align: right;\">\n",
       "      <th></th>\n",
       "      <th>id</th>\n",
       "      <th>date</th>\n",
       "      <th>country</th>\n",
       "      <th>store</th>\n",
       "      <th>product</th>\n",
       "      <th>num_sold</th>\n",
       "    </tr>\n",
       "  </thead>\n",
       "  <tbody>\n",
       "    <tr>\n",
       "      <th>0</th>\n",
       "      <td>0</td>\n",
       "      <td>2010-01-01</td>\n",
       "      <td>Canada</td>\n",
       "      <td>Discount Stickers</td>\n",
       "      <td>Holographic Goose</td>\n",
       "      <td>NaN</td>\n",
       "    </tr>\n",
       "    <tr>\n",
       "      <th>1</th>\n",
       "      <td>1</td>\n",
       "      <td>2010-01-01</td>\n",
       "      <td>Canada</td>\n",
       "      <td>Discount Stickers</td>\n",
       "      <td>Kaggle</td>\n",
       "      <td>973.0</td>\n",
       "    </tr>\n",
       "    <tr>\n",
       "      <th>2</th>\n",
       "      <td>2</td>\n",
       "      <td>2010-01-01</td>\n",
       "      <td>Canada</td>\n",
       "      <td>Discount Stickers</td>\n",
       "      <td>Kaggle Tiers</td>\n",
       "      <td>906.0</td>\n",
       "    </tr>\n",
       "    <tr>\n",
       "      <th>3</th>\n",
       "      <td>3</td>\n",
       "      <td>2010-01-01</td>\n",
       "      <td>Canada</td>\n",
       "      <td>Discount Stickers</td>\n",
       "      <td>Kerneler</td>\n",
       "      <td>423.0</td>\n",
       "    </tr>\n",
       "    <tr>\n",
       "      <th>4</th>\n",
       "      <td>4</td>\n",
       "      <td>2010-01-01</td>\n",
       "      <td>Canada</td>\n",
       "      <td>Discount Stickers</td>\n",
       "      <td>Kerneler Dark Mode</td>\n",
       "      <td>491.0</td>\n",
       "    </tr>\n",
       "  </tbody>\n",
       "</table>\n",
       "</div>"
      ],
      "text/plain": [
       "   id       date country              store             product  num_sold\n",
       "0   0 2010-01-01  Canada  Discount Stickers   Holographic Goose       NaN\n",
       "1   1 2010-01-01  Canada  Discount Stickers              Kaggle     973.0\n",
       "2   2 2010-01-01  Canada  Discount Stickers        Kaggle Tiers     906.0\n",
       "3   3 2010-01-01  Canada  Discount Stickers            Kerneler     423.0\n",
       "4   4 2010-01-01  Canada  Discount Stickers  Kerneler Dark Mode     491.0"
      ]
     },
     "execution_count": 17,
     "metadata": {},
     "output_type": "execute_result"
    }
   ],
   "source": [
    "train_preprocess.head()"
   ]
  },
  {
   "cell_type": "markdown",
   "id": "89e6b699",
   "metadata": {
    "papermill": {
     "duration": 0.017526,
     "end_time": "2025-03-16T13:19:22.470902",
     "exception": false,
     "start_time": "2025-03-16T13:19:22.453376",
     "status": "completed"
    },
    "tags": []
   },
   "source": [
    "Encoding\n",
    "> country:6\n",
    "> \n",
    "> store:3\n",
    "> \n",
    "> product:5\n"
   ]
  },
  {
   "cell_type": "code",
   "execution_count": 18,
   "id": "61abcfb5",
   "metadata": {
    "execution": {
     "iopub.execute_input": "2025-03-16T13:19:22.505868Z",
     "iopub.status.busy": "2025-03-16T13:19:22.505449Z",
     "iopub.status.idle": "2025-03-16T13:19:22.739222Z",
     "shell.execute_reply": "2025-03-16T13:19:22.738232Z"
    },
    "papermill": {
     "duration": 0.253472,
     "end_time": "2025-03-16T13:19:22.741246",
     "exception": false,
     "start_time": "2025-03-16T13:19:22.487774",
     "status": "completed"
    },
    "tags": []
   },
   "outputs": [],
   "source": [
    "from sklearn import preprocessing\n",
    "\n",
    "label_encoder_country = preprocessing.LabelEncoder()\n",
    "train_preprocess['country']= label_encoder_country.fit_transform(train_preprocess['country'])"
   ]
  },
  {
   "cell_type": "code",
   "execution_count": 19,
   "id": "b1cf6369",
   "metadata": {
    "execution": {
     "iopub.execute_input": "2025-03-16T13:19:22.774937Z",
     "iopub.status.busy": "2025-03-16T13:19:22.774499Z",
     "iopub.status.idle": "2025-03-16T13:19:22.837175Z",
     "shell.execute_reply": "2025-03-16T13:19:22.836009Z"
    },
    "papermill": {
     "duration": 0.083532,
     "end_time": "2025-03-16T13:19:22.839331",
     "exception": false,
     "start_time": "2025-03-16T13:19:22.755799",
     "status": "completed"
    },
    "tags": []
   },
   "outputs": [],
   "source": [
    "label_encoder_store = preprocessing.LabelEncoder()\n",
    "train_preprocess['store']= label_encoder_store.fit_transform(train_preprocess['store'])"
   ]
  },
  {
   "cell_type": "code",
   "execution_count": 20,
   "id": "2e09b7f4",
   "metadata": {
    "execution": {
     "iopub.execute_input": "2025-03-16T13:19:22.863734Z",
     "iopub.status.busy": "2025-03-16T13:19:22.863336Z",
     "iopub.status.idle": "2025-03-16T13:19:22.914895Z",
     "shell.execute_reply": "2025-03-16T13:19:22.913845Z"
    },
    "papermill": {
     "duration": 0.065798,
     "end_time": "2025-03-16T13:19:22.916832",
     "exception": false,
     "start_time": "2025-03-16T13:19:22.851034",
     "status": "completed"
    },
    "tags": []
   },
   "outputs": [],
   "source": [
    "label_encoder_product = preprocessing.LabelEncoder()\n",
    "train_preprocess['product']= label_encoder_product.fit_transform(train_preprocess['product'])"
   ]
  },
  {
   "cell_type": "code",
   "execution_count": 21,
   "id": "25d9ca14",
   "metadata": {
    "execution": {
     "iopub.execute_input": "2025-03-16T13:19:22.940952Z",
     "iopub.status.busy": "2025-03-16T13:19:22.940534Z",
     "iopub.status.idle": "2025-03-16T13:19:22.956239Z",
     "shell.execute_reply": "2025-03-16T13:19:22.954983Z"
    },
    "papermill": {
     "duration": 0.029635,
     "end_time": "2025-03-16T13:19:22.958049",
     "exception": false,
     "start_time": "2025-03-16T13:19:22.928414",
     "status": "completed"
    },
    "tags": []
   },
   "outputs": [
    {
     "name": "stderr",
     "output_type": "stream",
     "text": [
      "/usr/local/lib/python3.10/dist-packages/pandas/io/formats/format.py:1458: RuntimeWarning: invalid value encountered in greater\n",
      "  has_large_values = (abs_vals > 1e6).any()\n",
      "/usr/local/lib/python3.10/dist-packages/pandas/io/formats/format.py:1459: RuntimeWarning: invalid value encountered in less\n",
      "  has_small_values = ((abs_vals < 10 ** (-self.digits)) & (abs_vals > 0)).any()\n",
      "/usr/local/lib/python3.10/dist-packages/pandas/io/formats/format.py:1459: RuntimeWarning: invalid value encountered in greater\n",
      "  has_small_values = ((abs_vals < 10 ** (-self.digits)) & (abs_vals > 0)).any()\n"
     ]
    },
    {
     "data": {
      "text/html": [
       "<div>\n",
       "<style scoped>\n",
       "    .dataframe tbody tr th:only-of-type {\n",
       "        vertical-align: middle;\n",
       "    }\n",
       "\n",
       "    .dataframe tbody tr th {\n",
       "        vertical-align: top;\n",
       "    }\n",
       "\n",
       "    .dataframe thead th {\n",
       "        text-align: right;\n",
       "    }\n",
       "</style>\n",
       "<table border=\"1\" class=\"dataframe\">\n",
       "  <thead>\n",
       "    <tr style=\"text-align: right;\">\n",
       "      <th></th>\n",
       "      <th>id</th>\n",
       "      <th>date</th>\n",
       "      <th>country</th>\n",
       "      <th>store</th>\n",
       "      <th>product</th>\n",
       "      <th>num_sold</th>\n",
       "    </tr>\n",
       "  </thead>\n",
       "  <tbody>\n",
       "    <tr>\n",
       "      <th>0</th>\n",
       "      <td>0</td>\n",
       "      <td>2010-01-01</td>\n",
       "      <td>0</td>\n",
       "      <td>0</td>\n",
       "      <td>0</td>\n",
       "      <td>NaN</td>\n",
       "    </tr>\n",
       "    <tr>\n",
       "      <th>1</th>\n",
       "      <td>1</td>\n",
       "      <td>2010-01-01</td>\n",
       "      <td>0</td>\n",
       "      <td>0</td>\n",
       "      <td>1</td>\n",
       "      <td>973.0</td>\n",
       "    </tr>\n",
       "    <tr>\n",
       "      <th>2</th>\n",
       "      <td>2</td>\n",
       "      <td>2010-01-01</td>\n",
       "      <td>0</td>\n",
       "      <td>0</td>\n",
       "      <td>2</td>\n",
       "      <td>906.0</td>\n",
       "    </tr>\n",
       "    <tr>\n",
       "      <th>3</th>\n",
       "      <td>3</td>\n",
       "      <td>2010-01-01</td>\n",
       "      <td>0</td>\n",
       "      <td>0</td>\n",
       "      <td>3</td>\n",
       "      <td>423.0</td>\n",
       "    </tr>\n",
       "    <tr>\n",
       "      <th>4</th>\n",
       "      <td>4</td>\n",
       "      <td>2010-01-01</td>\n",
       "      <td>0</td>\n",
       "      <td>0</td>\n",
       "      <td>4</td>\n",
       "      <td>491.0</td>\n",
       "    </tr>\n",
       "    <tr>\n",
       "      <th>...</th>\n",
       "      <td>...</td>\n",
       "      <td>...</td>\n",
       "      <td>...</td>\n",
       "      <td>...</td>\n",
       "      <td>...</td>\n",
       "      <td>...</td>\n",
       "    </tr>\n",
       "    <tr>\n",
       "      <th>230125</th>\n",
       "      <td>230125</td>\n",
       "      <td>2016-12-31</td>\n",
       "      <td>5</td>\n",
       "      <td>1</td>\n",
       "      <td>0</td>\n",
       "      <td>466.0</td>\n",
       "    </tr>\n",
       "    <tr>\n",
       "      <th>230126</th>\n",
       "      <td>230126</td>\n",
       "      <td>2016-12-31</td>\n",
       "      <td>5</td>\n",
       "      <td>1</td>\n",
       "      <td>1</td>\n",
       "      <td>2907.0</td>\n",
       "    </tr>\n",
       "    <tr>\n",
       "      <th>230127</th>\n",
       "      <td>230127</td>\n",
       "      <td>2016-12-31</td>\n",
       "      <td>5</td>\n",
       "      <td>1</td>\n",
       "      <td>2</td>\n",
       "      <td>2299.0</td>\n",
       "    </tr>\n",
       "    <tr>\n",
       "      <th>230128</th>\n",
       "      <td>230128</td>\n",
       "      <td>2016-12-31</td>\n",
       "      <td>5</td>\n",
       "      <td>1</td>\n",
       "      <td>3</td>\n",
       "      <td>1242.0</td>\n",
       "    </tr>\n",
       "    <tr>\n",
       "      <th>230129</th>\n",
       "      <td>230129</td>\n",
       "      <td>2016-12-31</td>\n",
       "      <td>5</td>\n",
       "      <td>1</td>\n",
       "      <td>4</td>\n",
       "      <td>1622.0</td>\n",
       "    </tr>\n",
       "  </tbody>\n",
       "</table>\n",
       "<p>230130 rows × 6 columns</p>\n",
       "</div>"
      ],
      "text/plain": [
       "            id       date  country  store  product  num_sold\n",
       "0            0 2010-01-01        0      0        0       NaN\n",
       "1            1 2010-01-01        0      0        1     973.0\n",
       "2            2 2010-01-01        0      0        2     906.0\n",
       "3            3 2010-01-01        0      0        3     423.0\n",
       "4            4 2010-01-01        0      0        4     491.0\n",
       "...        ...        ...      ...    ...      ...       ...\n",
       "230125  230125 2016-12-31        5      1        0     466.0\n",
       "230126  230126 2016-12-31        5      1        1    2907.0\n",
       "230127  230127 2016-12-31        5      1        2    2299.0\n",
       "230128  230128 2016-12-31        5      1        3    1242.0\n",
       "230129  230129 2016-12-31        5      1        4    1622.0\n",
       "\n",
       "[230130 rows x 6 columns]"
      ]
     },
     "execution_count": 21,
     "metadata": {},
     "output_type": "execute_result"
    }
   ],
   "source": [
    "train_preprocess"
   ]
  },
  {
   "cell_type": "markdown",
   "id": "d3037035",
   "metadata": {
    "papermill": {
     "duration": 0.011257,
     "end_time": "2025-03-16T13:19:22.981429",
     "exception": false,
     "start_time": "2025-03-16T13:19:22.970172",
     "status": "completed"
    },
    "tags": []
   },
   "source": [
    "Handle Missing Values"
   ]
  },
  {
   "cell_type": "code",
   "execution_count": 22,
   "id": "0324b2cd",
   "metadata": {
    "execution": {
     "iopub.execute_input": "2025-03-16T13:19:23.006006Z",
     "iopub.status.busy": "2025-03-16T13:19:23.005610Z",
     "iopub.status.idle": "2025-03-16T13:19:23.012883Z",
     "shell.execute_reply": "2025-03-16T13:19:23.011717Z"
    },
    "papermill": {
     "duration": 0.02128,
     "end_time": "2025-03-16T13:19:23.014413",
     "exception": false,
     "start_time": "2025-03-16T13:19:22.993133",
     "status": "completed"
    },
    "tags": []
   },
   "outputs": [
    {
     "data": {
      "text/plain": [
       "8871"
      ]
     },
     "execution_count": 22,
     "metadata": {},
     "output_type": "execute_result"
    }
   ],
   "source": [
    "train_preprocess.num_sold.isna().sum()"
   ]
  },
  {
   "cell_type": "code",
   "execution_count": 23,
   "id": "17ce72a5",
   "metadata": {
    "execution": {
     "iopub.execute_input": "2025-03-16T13:19:23.040055Z",
     "iopub.status.busy": "2025-03-16T13:19:23.039440Z",
     "iopub.status.idle": "2025-03-16T13:19:23.062672Z",
     "shell.execute_reply": "2025-03-16T13:19:23.061047Z"
    },
    "papermill": {
     "duration": 0.038456,
     "end_time": "2025-03-16T13:19:23.064890",
     "exception": false,
     "start_time": "2025-03-16T13:19:23.026434",
     "status": "completed"
    },
    "tags": []
   },
   "outputs": [
    {
     "name": "stdout",
     "output_type": "stream",
     "text": [
      "<class 'pandas.core.frame.DataFrame'>\n",
      "RangeIndex: 230130 entries, 0 to 230129\n",
      "Data columns (total 6 columns):\n",
      " #   Column    Non-Null Count   Dtype         \n",
      "---  ------    --------------   -----         \n",
      " 0   id        230130 non-null  int64         \n",
      " 1   date      230130 non-null  datetime64[ns]\n",
      " 2   country   230130 non-null  int64         \n",
      " 3   store     230130 non-null  int64         \n",
      " 4   product   230130 non-null  int64         \n",
      " 5   num_sold  221259 non-null  float64       \n",
      "dtypes: datetime64[ns](1), float64(1), int64(4)\n",
      "memory usage: 10.5 MB\n"
     ]
    }
   ],
   "source": [
    "train_preprocess.info()"
   ]
  },
  {
   "cell_type": "code",
   "execution_count": 24,
   "id": "5220c7a6",
   "metadata": {
    "execution": {
     "iopub.execute_input": "2025-03-16T13:19:23.104903Z",
     "iopub.status.busy": "2025-03-16T13:19:23.104472Z",
     "iopub.status.idle": "2025-03-16T13:19:23.109873Z",
     "shell.execute_reply": "2025-03-16T13:19:23.108849Z"
    },
    "papermill": {
     "duration": 0.021673,
     "end_time": "2025-03-16T13:19:23.111656",
     "exception": false,
     "start_time": "2025-03-16T13:19:23.089983",
     "status": "completed"
    },
    "tags": []
   },
   "outputs": [
    {
     "name": "stdout",
     "output_type": "stream",
     "text": [
      "2010-01-01 00:00:00\n",
      "2010-01-01\n"
     ]
    }
   ],
   "source": [
    "print(train_preprocess['date'][0])\n",
    "print(train['date'][0])"
   ]
  },
  {
   "cell_type": "code",
   "execution_count": 25,
   "id": "6679c007",
   "metadata": {
    "execution": {
     "iopub.execute_input": "2025-03-16T13:19:23.137717Z",
     "iopub.status.busy": "2025-03-16T13:19:23.137290Z",
     "iopub.status.idle": "2025-03-16T13:19:23.214554Z",
     "shell.execute_reply": "2025-03-16T13:19:23.213348Z"
    },
    "papermill": {
     "duration": 0.092701,
     "end_time": "2025-03-16T13:19:23.216624",
     "exception": false,
     "start_time": "2025-03-16T13:19:23.123923",
     "status": "completed"
    },
    "tags": []
   },
   "outputs": [],
   "source": [
    "#train_preprocess['date'][0]\n",
    "train_preprocess['date'] = pd.to_datetime(train_preprocess['date']).dt.date"
   ]
  },
  {
   "cell_type": "code",
   "execution_count": 26,
   "id": "7bec98cf",
   "metadata": {
    "execution": {
     "iopub.execute_input": "2025-03-16T13:19:23.241503Z",
     "iopub.status.busy": "2025-03-16T13:19:23.241160Z",
     "iopub.status.idle": "2025-03-16T13:19:23.246826Z",
     "shell.execute_reply": "2025-03-16T13:19:23.245506Z"
    },
    "papermill": {
     "duration": 0.020013,
     "end_time": "2025-03-16T13:19:23.248531",
     "exception": false,
     "start_time": "2025-03-16T13:19:23.228518",
     "status": "completed"
    },
    "tags": []
   },
   "outputs": [
    {
     "name": "stdout",
     "output_type": "stream",
     "text": [
      "2010-01-01\n"
     ]
    }
   ],
   "source": [
    "print(train_preprocess['date'][0])"
   ]
  },
  {
   "cell_type": "code",
   "execution_count": 27,
   "id": "bdeba97e",
   "metadata": {
    "execution": {
     "iopub.execute_input": "2025-03-16T13:19:23.273815Z",
     "iopub.status.busy": "2025-03-16T13:19:23.273346Z",
     "iopub.status.idle": "2025-03-16T13:21:26.943711Z",
     "shell.execute_reply": "2025-03-16T13:21:26.942538Z"
    },
    "papermill": {
     "duration": 123.700761,
     "end_time": "2025-03-16T13:21:26.961510",
     "exception": false,
     "start_time": "2025-03-16T13:19:23.260749",
     "status": "completed"
    },
    "tags": []
   },
   "outputs": [
    {
     "name": "stderr",
     "output_type": "stream",
     "text": [
      "/usr/local/lib/python3.10/dist-packages/seaborn/_oldcore.py:1119: FutureWarning: use_inf_as_na option is deprecated and will be removed in a future version. Convert inf values to NaN before operating instead.\n",
      "  with pd.option_context('mode.use_inf_as_na', True):\n",
      "/usr/local/lib/python3.10/dist-packages/seaborn/_oldcore.py:1075: FutureWarning: When grouping with a length-1 list-like, you will need to pass a length-1 tuple to get_group in a future version of pandas. Pass `(name,)` instead of `name` to silence this warning.\n",
      "  data_subset = grouped_data.get_group(pd_key)\n",
      "/usr/local/lib/python3.10/dist-packages/seaborn/_oldcore.py:1075: FutureWarning: When grouping with a length-1 list-like, you will need to pass a length-1 tuple to get_group in a future version of pandas. Pass `(name,)` instead of `name` to silence this warning.\n",
      "  data_subset = grouped_data.get_group(pd_key)\n",
      "/usr/local/lib/python3.10/dist-packages/seaborn/_oldcore.py:1119: FutureWarning: use_inf_as_na option is deprecated and will be removed in a future version. Convert inf values to NaN before operating instead.\n",
      "  with pd.option_context('mode.use_inf_as_na', True):\n",
      "/usr/local/lib/python3.10/dist-packages/seaborn/_oldcore.py:1075: FutureWarning: When grouping with a length-1 list-like, you will need to pass a length-1 tuple to get_group in a future version of pandas. Pass `(name,)` instead of `name` to silence this warning.\n",
      "  data_subset = grouped_data.get_group(pd_key)\n",
      "/usr/local/lib/python3.10/dist-packages/seaborn/_oldcore.py:1075: FutureWarning: When grouping with a length-1 list-like, you will need to pass a length-1 tuple to get_group in a future version of pandas. Pass `(name,)` instead of `name` to silence this warning.\n",
      "  data_subset = grouped_data.get_group(pd_key)\n",
      "/usr/local/lib/python3.10/dist-packages/seaborn/_oldcore.py:1119: FutureWarning: use_inf_as_na option is deprecated and will be removed in a future version. Convert inf values to NaN before operating instead.\n",
      "  with pd.option_context('mode.use_inf_as_na', True):\n",
      "/usr/local/lib/python3.10/dist-packages/seaborn/_oldcore.py:1075: FutureWarning: When grouping with a length-1 list-like, you will need to pass a length-1 tuple to get_group in a future version of pandas. Pass `(name,)` instead of `name` to silence this warning.\n",
      "  data_subset = grouped_data.get_group(pd_key)\n"
     ]
    },
    {
     "data": {
      "image/png": "[encoded data removed]",
      "text/plain": [
       "<Figure size 814.736x750 with 12 Axes>"
      ]
     },
     "metadata": {},
     "output_type": "display_data"
    }
   ],
   "source": [
    "figsize=(24, 16)\n",
    "sns.pairplot(train_preprocess.drop(\"id\", axis=1), hue='product');"
   ]
  },
  {
   "cell_type": "markdown",
   "id": "d2b75380",
   "metadata": {
    "papermill": {
     "duration": 0.0235,
     "end_time": "2025-03-16T13:21:26.999501",
     "exception": false,
     "start_time": "2025-03-16T13:21:26.976001",
     "status": "completed"
    },
    "tags": []
   },
   "source": [
    "### Pre-processing pipeline"
   ]
  },
  {
   "cell_type": "code",
   "execution_count": 28,
   "id": "bd18917c",
   "metadata": {
    "execution": {
     "iopub.execute_input": "2025-03-16T13:21:27.043266Z",
     "iopub.status.busy": "2025-03-16T13:21:27.042905Z",
     "iopub.status.idle": "2025-03-16T13:21:27.051916Z",
     "shell.execute_reply": "2025-03-16T13:21:27.050849Z"
    },
    "papermill": {
     "duration": 0.035248,
     "end_time": "2025-03-16T13:21:27.053540",
     "exception": false,
     "start_time": "2025-03-16T13:21:27.018292",
     "status": "completed"
    },
    "tags": []
   },
   "outputs": [],
   "source": [
    "from sklearn import preprocessing\n",
    "\n",
    "def preprocess_pipeline(train, test):\n",
    "    train_dataframe = train.copy()\n",
    "    test_dataframe = test.copy()\n",
    "\n",
    "    # Label encoding for categorical columns\n",
    "    label_encoder_country = preprocessing.LabelEncoder()\n",
    "    label_encoder_store = preprocessing.LabelEncoder()\n",
    "    label_encoder_product = preprocessing.LabelEncoder()\n",
    "\n",
    "    train_dataframe['country'] = label_encoder_country.fit_transform(train_dataframe['country'])\n",
    "    train_dataframe['store'] = label_encoder_store.fit_transform(train_dataframe['store'])\n",
    "    train_dataframe['product'] = label_encoder_product.fit_transform(train_dataframe['product'])\n",
    "\n",
    "    # Ensure date column is in datetime format\n",
    "    train_dataframe['date'] = pd.to_datetime(train_dataframe['date'])\n",
    "    \n",
    "    # Extract date features\n",
    "    train_dataframe['year'] = train_dataframe['date'].dt.year\n",
    "    train_dataframe['month'] = train_dataframe['date'].dt.month\n",
    "    train_dataframe['day'] = train_dataframe['date'].dt.day\n",
    "    train_dataframe['day_of_week'] = train_dataframe['date'].dt.dayofweek\n",
    "\n",
    "    # Drop the original date column\n",
    "    train_dataframe = train_dataframe.drop('date', axis=1)\n",
    "    \n",
    "    # Drop NaN values\n",
    "    train_dataframe = train_dataframe.dropna()\n",
    "\n",
    "    # Apply the same transformations to test data\n",
    "    test_dataframe['country'] = label_encoder_country.transform(test_dataframe['country'])\n",
    "    test_dataframe['store'] = label_encoder_store.transform(test_dataframe['store'])\n",
    "    test_dataframe['product'] = label_encoder_product.transform(test_dataframe['product'])\n",
    "\n",
    "    test_dataframe['date'] = pd.to_datetime(test_dataframe['date'])\n",
    "    test_dataframe['year'] = test_dataframe['date'].dt.year\n",
    "    test_dataframe['month'] = test_dataframe['date'].dt.month\n",
    "    test_dataframe['day'] = test_dataframe['date'].dt.day\n",
    "    test_dataframe['day_of_week'] = test_dataframe['date'].dt.dayofweek\n",
    "\n",
    "    test_dataframe = test_dataframe.drop('date', axis=1)\n",
    "    test_dataframe = test_dataframe.dropna()\n",
    "\n",
    "    return train_dataframe, test_dataframe"
   ]
  },
  {
   "cell_type": "code",
   "execution_count": 29,
   "id": "c821ac78",
   "metadata": {
    "execution": {
     "iopub.execute_input": "2025-03-16T13:21:27.084732Z",
     "iopub.status.busy": "2025-03-16T13:21:27.084339Z",
     "iopub.status.idle": "2025-03-16T13:21:27.483752Z",
     "shell.execute_reply": "2025-03-16T13:21:27.482687Z"
    },
    "papermill": {
     "duration": 0.417569,
     "end_time": "2025-03-16T13:21:27.485953",
     "exception": false,
     "start_time": "2025-03-16T13:21:27.068384",
     "status": "completed"
    },
    "tags": []
   },
   "outputs": [],
   "source": [
    "train_preprocessed,test_preprocessed = preprocess_pipeline(train,test)"
   ]
  },
  {
   "cell_type": "code",
   "execution_count": 30,
   "id": "fe0668ee",
   "metadata": {
    "execution": {
     "iopub.execute_input": "2025-03-16T13:21:27.532111Z",
     "iopub.status.busy": "2025-03-16T13:21:27.531557Z",
     "iopub.status.idle": "2025-03-16T13:21:27.545079Z",
     "shell.execute_reply": "2025-03-16T13:21:27.543908Z"
    },
    "papermill": {
     "duration": 0.03926,
     "end_time": "2025-03-16T13:21:27.546820",
     "exception": false,
     "start_time": "2025-03-16T13:21:27.507560",
     "status": "completed"
    },
    "tags": []
   },
   "outputs": [
    {
     "data": {
      "text/html": [
       "<div>\n",
       "<style scoped>\n",
       "    .dataframe tbody tr th:only-of-type {\n",
       "        vertical-align: middle;\n",
       "    }\n",
       "\n",
       "    .dataframe tbody tr th {\n",
       "        vertical-align: top;\n",
       "    }\n",
       "\n",
       "    .dataframe thead th {\n",
       "        text-align: right;\n",
       "    }\n",
       "</style>\n",
       "<table border=\"1\" class=\"dataframe\">\n",
       "  <thead>\n",
       "    <tr style=\"text-align: right;\">\n",
       "      <th></th>\n",
       "      <th>id</th>\n",
       "      <th>country</th>\n",
       "      <th>store</th>\n",
       "      <th>product</th>\n",
       "      <th>num_sold</th>\n",
       "      <th>year</th>\n",
       "      <th>month</th>\n",
       "      <th>day</th>\n",
       "      <th>day_of_week</th>\n",
       "    </tr>\n",
       "  </thead>\n",
       "  <tbody>\n",
       "    <tr>\n",
       "      <th>1</th>\n",
       "      <td>1</td>\n",
       "      <td>0</td>\n",
       "      <td>0</td>\n",
       "      <td>1</td>\n",
       "      <td>973.0</td>\n",
       "      <td>2010</td>\n",
       "      <td>1</td>\n",
       "      <td>1</td>\n",
       "      <td>4</td>\n",
       "    </tr>\n",
       "    <tr>\n",
       "      <th>2</th>\n",
       "      <td>2</td>\n",
       "      <td>0</td>\n",
       "      <td>0</td>\n",
       "      <td>2</td>\n",
       "      <td>906.0</td>\n",
       "      <td>2010</td>\n",
       "      <td>1</td>\n",
       "      <td>1</td>\n",
       "      <td>4</td>\n",
       "    </tr>\n",
       "    <tr>\n",
       "      <th>3</th>\n",
       "      <td>3</td>\n",
       "      <td>0</td>\n",
       "      <td>0</td>\n",
       "      <td>3</td>\n",
       "      <td>423.0</td>\n",
       "      <td>2010</td>\n",
       "      <td>1</td>\n",
       "      <td>1</td>\n",
       "      <td>4</td>\n",
       "    </tr>\n",
       "    <tr>\n",
       "      <th>4</th>\n",
       "      <td>4</td>\n",
       "      <td>0</td>\n",
       "      <td>0</td>\n",
       "      <td>4</td>\n",
       "      <td>491.0</td>\n",
       "      <td>2010</td>\n",
       "      <td>1</td>\n",
       "      <td>1</td>\n",
       "      <td>4</td>\n",
       "    </tr>\n",
       "    <tr>\n",
       "      <th>5</th>\n",
       "      <td>5</td>\n",
       "      <td>0</td>\n",
       "      <td>2</td>\n",
       "      <td>0</td>\n",
       "      <td>300.0</td>\n",
       "      <td>2010</td>\n",
       "      <td>1</td>\n",
       "      <td>1</td>\n",
       "      <td>4</td>\n",
       "    </tr>\n",
       "  </tbody>\n",
       "</table>\n",
       "</div>"
      ],
      "text/plain": [
       "   id  country  store  product  num_sold  year  month  day  day_of_week\n",
       "1   1        0      0        1     973.0  2010      1    1            4\n",
       "2   2        0      0        2     906.0  2010      1    1            4\n",
       "3   3        0      0        3     423.0  2010      1    1            4\n",
       "4   4        0      0        4     491.0  2010      1    1            4\n",
       "5   5        0      2        0     300.0  2010      1    1            4"
      ]
     },
     "execution_count": 30,
     "metadata": {},
     "output_type": "execute_result"
    }
   ],
   "source": [
    "train_preprocessed.head()"
   ]
  },
  {
   "cell_type": "code",
   "execution_count": 31,
   "id": "1731c0c7",
   "metadata": {
    "execution": {
     "iopub.execute_input": "2025-03-16T13:21:27.583207Z",
     "iopub.status.busy": "2025-03-16T13:21:27.582839Z",
     "iopub.status.idle": "2025-03-16T13:21:27.593259Z",
     "shell.execute_reply": "2025-03-16T13:21:27.592216Z"
    },
    "papermill": {
     "duration": 0.028486,
     "end_time": "2025-03-16T13:21:27.595267",
     "exception": false,
     "start_time": "2025-03-16T13:21:27.566781",
     "status": "completed"
    },
    "tags": []
   },
   "outputs": [
    {
     "data": {
      "text/html": [
       "<div>\n",
       "<style scoped>\n",
       "    .dataframe tbody tr th:only-of-type {\n",
       "        vertical-align: middle;\n",
       "    }\n",
       "\n",
       "    .dataframe tbody tr th {\n",
       "        vertical-align: top;\n",
       "    }\n",
       "\n",
       "    .dataframe thead th {\n",
       "        text-align: right;\n",
       "    }\n",
       "</style>\n",
       "<table border=\"1\" class=\"dataframe\">\n",
       "  <thead>\n",
       "    <tr style=\"text-align: right;\">\n",
       "      <th></th>\n",
       "      <th>id</th>\n",
       "      <th>country</th>\n",
       "      <th>store</th>\n",
       "      <th>product</th>\n",
       "      <th>year</th>\n",
       "      <th>month</th>\n",
       "      <th>day</th>\n",
       "      <th>day_of_week</th>\n",
       "    </tr>\n",
       "  </thead>\n",
       "  <tbody>\n",
       "    <tr>\n",
       "      <th>0</th>\n",
       "      <td>230130</td>\n",
       "      <td>0</td>\n",
       "      <td>0</td>\n",
       "      <td>0</td>\n",
       "      <td>2017</td>\n",
       "      <td>1</td>\n",
       "      <td>1</td>\n",
       "      <td>6</td>\n",
       "    </tr>\n",
       "    <tr>\n",
       "      <th>1</th>\n",
       "      <td>230131</td>\n",
       "      <td>0</td>\n",
       "      <td>0</td>\n",
       "      <td>1</td>\n",
       "      <td>2017</td>\n",
       "      <td>1</td>\n",
       "      <td>1</td>\n",
       "      <td>6</td>\n",
       "    </tr>\n",
       "    <tr>\n",
       "      <th>2</th>\n",
       "      <td>230132</td>\n",
       "      <td>0</td>\n",
       "      <td>0</td>\n",
       "      <td>2</td>\n",
       "      <td>2017</td>\n",
       "      <td>1</td>\n",
       "      <td>1</td>\n",
       "      <td>6</td>\n",
       "    </tr>\n",
       "    <tr>\n",
       "      <th>3</th>\n",
       "      <td>230133</td>\n",
       "      <td>0</td>\n",
       "      <td>0</td>\n",
       "      <td>3</td>\n",
       "      <td>2017</td>\n",
       "      <td>1</td>\n",
       "      <td>1</td>\n",
       "      <td>6</td>\n",
       "    </tr>\n",
       "    <tr>\n",
       "      <th>4</th>\n",
       "      <td>230134</td>\n",
       "      <td>0</td>\n",
       "      <td>0</td>\n",
       "      <td>4</td>\n",
       "      <td>2017</td>\n",
       "      <td>1</td>\n",
       "      <td>1</td>\n",
       "      <td>6</td>\n",
       "    </tr>\n",
       "  </tbody>\n",
       "</table>\n",
       "</div>"
      ],
      "text/plain": [
       "       id  country  store  product  year  month  day  day_of_week\n",
       "0  230130        0      0        0  2017      1    1            6\n",
       "1  230131        0      0        1  2017      1    1            6\n",
       "2  230132        0      0        2  2017      1    1            6\n",
       "3  230133        0      0        3  2017      1    1            6\n",
       "4  230134        0      0        4  2017      1    1            6"
      ]
     },
     "execution_count": 31,
     "metadata": {},
     "output_type": "execute_result"
    }
   ],
   "source": [
    "test_preprocessed.head()"
   ]
  },
  {
   "cell_type": "code",
   "execution_count": 32,
   "id": "60f7ebfa",
   "metadata": {
    "execution": {
     "iopub.execute_input": "2025-03-16T13:21:27.631847Z",
     "iopub.status.busy": "2025-03-16T13:21:27.631371Z",
     "iopub.status.idle": "2025-03-16T13:21:27.635817Z",
     "shell.execute_reply": "2025-03-16T13:21:27.634807Z"
    },
    "papermill": {
     "duration": 0.02262,
     "end_time": "2025-03-16T13:21:27.637415",
     "exception": false,
     "start_time": "2025-03-16T13:21:27.614795",
     "status": "completed"
    },
    "tags": []
   },
   "outputs": [],
   "source": [
    "# fig, axes = plt.subplots(2, 3, figsize=(12, 8))\n",
    "# axes = axes.flatten()\n",
    "# for i in range(6):\n",
    "#     ax = axes[i]  # Get the current subplot axis\n",
    "#     sns.lineplot(x=\"month\", y=\"num_sold\", data=test_preprocessed[test_preprocessed['country'] == i], ax=ax)\n",
    "#     ax.set_title(f\"Country {i}\") #set title for each subplot\n",
    "#     ax.set_xlabel(\"Month\") #set x label for each subplot\n",
    "#     ax.set_ylabel(\"Num Sold\") #set y label for each subplot"
   ]
  },
  {
   "cell_type": "code",
   "execution_count": 33,
   "id": "1f99033d",
   "metadata": {
    "execution": {
     "iopub.execute_input": "2025-03-16T13:21:27.729372Z",
     "iopub.status.busy": "2025-03-16T13:21:27.728904Z",
     "iopub.status.idle": "2025-03-16T13:21:27.733740Z",
     "shell.execute_reply": "2025-03-16T13:21:27.732453Z"
    },
    "papermill": {
     "duration": 0.024127,
     "end_time": "2025-03-16T13:21:27.735682",
     "exception": false,
     "start_time": "2025-03-16T13:21:27.711555",
     "status": "completed"
    },
    "tags": []
   },
   "outputs": [],
   "source": [
    "# fig, axes = plt.subplots(2, 3, figsize=(24, 16))\n",
    "# axes = axes.flatten()\n",
    "# for i in range(6):\n",
    "#     ax = axes[i]  # Get the current subplot axis\n",
    "#     sns.lineplot(x=\"year\", y=\"num_sold\",hue=\"product\", data=train_preprocess[train_preprocess['country'] == i], ax=ax)\n",
    "#     ax.grid()\n",
    "#     ax.set_title(f\"Country {i}\") #set title for each subplot\n",
    "#     ax.set_xlabel(\"Year\") #set x label for each subplot\n",
    "#     ax.set_ylabel(\"Num Sold\") #set y label for each subplot"
   ]
  },
  {
   "cell_type": "code",
   "execution_count": 34,
   "id": "9222da0a",
   "metadata": {
    "execution": {
     "iopub.execute_input": "2025-03-16T13:21:27.768211Z",
     "iopub.status.busy": "2025-03-16T13:21:27.767746Z",
     "iopub.status.idle": "2025-03-16T13:21:27.772055Z",
     "shell.execute_reply": "2025-03-16T13:21:27.771005Z"
    },
    "papermill": {
     "duration": 0.022518,
     "end_time": "2025-03-16T13:21:27.773829",
     "exception": false,
     "start_time": "2025-03-16T13:21:27.751311",
     "status": "completed"
    },
    "tags": []
   },
   "outputs": [],
   "source": [
    "# ## Correlation score\n",
    "# from scipy.stats import f_oneway\n",
    "\n",
    "# corr, _ = f_oneway (train_preprocess['country'], train_preprocess['num_sold'])\n",
    "# corr"
   ]
  },
  {
   "cell_type": "code",
   "execution_count": 35,
   "id": "975ce2c6",
   "metadata": {
    "execution": {
     "iopub.execute_input": "2025-03-16T13:21:27.806419Z",
     "iopub.status.busy": "2025-03-16T13:21:27.805973Z",
     "iopub.status.idle": "2025-03-16T13:21:30.460174Z",
     "shell.execute_reply": "2025-03-16T13:21:30.459005Z"
    },
    "papermill": {
     "duration": 2.672464,
     "end_time": "2025-03-16T13:21:30.461877",
     "exception": false,
     "start_time": "2025-03-16T13:21:27.789413",
     "status": "completed"
    },
    "tags": []
   },
   "outputs": [
    {
     "name": "stderr",
     "output_type": "stream",
     "text": [
      "/usr/local/lib/python3.10/dist-packages/seaborn/_oldcore.py:1119: FutureWarning: use_inf_as_na option is deprecated and will be removed in a future version. Convert inf values to NaN before operating instead.\n",
      "  with pd.option_context('mode.use_inf_as_na', True):\n",
      "/usr/local/lib/python3.10/dist-packages/seaborn/_oldcore.py:1119: FutureWarning: use_inf_as_na option is deprecated and will be removed in a future version. Convert inf values to NaN before operating instead.\n",
      "  with pd.option_context('mode.use_inf_as_na', True):\n",
      "/usr/local/lib/python3.10/dist-packages/seaborn/_oldcore.py:1075: FutureWarning: When grouping with a length-1 list-like, you will need to pass a length-1 tuple to get_group in a future version of pandas. Pass `(name,)` instead of `name` to silence this warning.\n",
      "  data_subset = grouped_data.get_group(pd_key)\n",
      "/usr/local/lib/python3.10/dist-packages/seaborn/_oldcore.py:1075: FutureWarning: When grouping with a length-1 list-like, you will need to pass a length-1 tuple to get_group in a future version of pandas. Pass `(name,)` instead of `name` to silence this warning.\n",
      "  data_subset = grouped_data.get_group(pd_key)\n",
      "/usr/local/lib/python3.10/dist-packages/seaborn/_oldcore.py:1075: FutureWarning: When grouping with a length-1 list-like, you will need to pass a length-1 tuple to get_group in a future version of pandas. Pass `(name,)` instead of `name` to silence this warning.\n",
      "  data_subset = grouped_data.get_group(pd_key)\n",
      "/usr/local/lib/python3.10/dist-packages/seaborn/_oldcore.py:1075: FutureWarning: When grouping with a length-1 list-like, you will need to pass a length-1 tuple to get_group in a future version of pandas. Pass `(name,)` instead of `name` to silence this warning.\n",
      "  data_subset = grouped_data.get_group(pd_key)\n",
      "/usr/local/lib/python3.10/dist-packages/seaborn/_oldcore.py:1075: FutureWarning: When grouping with a length-1 list-like, you will need to pass a length-1 tuple to get_group in a future version of pandas. Pass `(name,)` instead of `name` to silence this warning.\n",
      "  data_subset = grouped_data.get_group(pd_key)\n"
     ]
    },
    {
     "data": {
      "text/plain": [
       "<Axes: xlabel='day_of_week', ylabel='num_sold'>"
      ]
     },
     "execution_count": 35,
     "metadata": {},
     "output_type": "execute_result"
    },
    {
     "data": {
      "image/png": "[encoded data removed]",
      "text/plain": [
       "<Figure size 640x480 with 1 Axes>"
      ]
     },
     "metadata": {},
     "output_type": "display_data"
    }
   ],
   "source": [
    "sns.set_theme()\n",
    "# plt.(train_preprocess['day_of_week'],train_preprocess['num_sold'],bins=5)\n",
    "sns.lineplot(x=\"day_of_week\", y=\"num_sold\",hue=\"product\", data=train_preprocessed)"
   ]
  },
  {
   "cell_type": "code",
   "execution_count": 36,
   "id": "adca66ca",
   "metadata": {
    "execution": {
     "iopub.execute_input": "2025-03-16T13:21:30.497023Z",
     "iopub.status.busy": "2025-03-16T13:21:30.496626Z",
     "iopub.status.idle": "2025-03-16T13:21:33.349680Z",
     "shell.execute_reply": "2025-03-16T13:21:33.348674Z"
    },
    "papermill": {
     "duration": 2.87267,
     "end_time": "2025-03-16T13:21:33.351213",
     "exception": false,
     "start_time": "2025-03-16T13:21:30.478543",
     "status": "completed"
    },
    "tags": []
   },
   "outputs": [
    {
     "name": "stderr",
     "output_type": "stream",
     "text": [
      "/usr/local/lib/python3.10/dist-packages/seaborn/_oldcore.py:1119: FutureWarning: use_inf_as_na option is deprecated and will be removed in a future version. Convert inf values to NaN before operating instead.\n",
      "  with pd.option_context('mode.use_inf_as_na', True):\n",
      "/usr/local/lib/python3.10/dist-packages/seaborn/_oldcore.py:1119: FutureWarning: use_inf_as_na option is deprecated and will be removed in a future version. Convert inf values to NaN before operating instead.\n",
      "  with pd.option_context('mode.use_inf_as_na', True):\n",
      "/usr/local/lib/python3.10/dist-packages/seaborn/_oldcore.py:1075: FutureWarning: When grouping with a length-1 list-like, you will need to pass a length-1 tuple to get_group in a future version of pandas. Pass `(name,)` instead of `name` to silence this warning.\n",
      "  data_subset = grouped_data.get_group(pd_key)\n",
      "/usr/local/lib/python3.10/dist-packages/seaborn/_oldcore.py:1075: FutureWarning: When grouping with a length-1 list-like, you will need to pass a length-1 tuple to get_group in a future version of pandas. Pass `(name,)` instead of `name` to silence this warning.\n",
      "  data_subset = grouped_data.get_group(pd_key)\n",
      "/usr/local/lib/python3.10/dist-packages/seaborn/_oldcore.py:1075: FutureWarning: When grouping with a length-1 list-like, you will need to pass a length-1 tuple to get_group in a future version of pandas. Pass `(name,)` instead of `name` to silence this warning.\n",
      "  data_subset = grouped_data.get_group(pd_key)\n",
      "/usr/local/lib/python3.10/dist-packages/seaborn/_oldcore.py:1075: FutureWarning: When grouping with a length-1 list-like, you will need to pass a length-1 tuple to get_group in a future version of pandas. Pass `(name,)` instead of `name` to silence this warning.\n",
      "  data_subset = grouped_data.get_group(pd_key)\n",
      "/usr/local/lib/python3.10/dist-packages/seaborn/_oldcore.py:1075: FutureWarning: When grouping with a length-1 list-like, you will need to pass a length-1 tuple to get_group in a future version of pandas. Pass `(name,)` instead of `name` to silence this warning.\n",
      "  data_subset = grouped_data.get_group(pd_key)\n",
      "/usr/local/lib/python3.10/dist-packages/seaborn/_oldcore.py:1075: FutureWarning: When grouping with a length-1 list-like, you will need to pass a length-1 tuple to get_group in a future version of pandas. Pass `(name,)` instead of `name` to silence this warning.\n",
      "  data_subset = grouped_data.get_group(pd_key)\n"
     ]
    },
    {
     "data": {
      "text/plain": [
       "<Axes: xlabel='day_of_week', ylabel='num_sold'>"
      ]
     },
     "execution_count": 36,
     "metadata": {},
     "output_type": "execute_result"
    },
    {
     "data": {
      "image/png": "[encoded data removed]",
      "text/plain": [
       "<Figure size 640x480 with 1 Axes>"
      ]
     },
     "metadata": {},
     "output_type": "display_data"
    }
   ],
   "source": [
    "sns.lineplot(x=\"day_of_week\", y=\"num_sold\",hue=\"country\", data=train_preprocessed)"
   ]
  },
  {
   "cell_type": "code",
   "execution_count": 37,
   "id": "4ce364c2",
   "metadata": {
    "execution": {
     "iopub.execute_input": "2025-03-16T13:21:33.389309Z",
     "iopub.status.busy": "2025-03-16T13:21:33.388925Z",
     "iopub.status.idle": "2025-03-16T13:21:33.403850Z",
     "shell.execute_reply": "2025-03-16T13:21:33.402751Z"
    },
    "papermill": {
     "duration": 0.035984,
     "end_time": "2025-03-16T13:21:33.405525",
     "exception": false,
     "start_time": "2025-03-16T13:21:33.369541",
     "status": "completed"
    },
    "tags": []
   },
   "outputs": [
    {
     "data": {
      "text/html": [
       "<div>\n",
       "<style scoped>\n",
       "    .dataframe tbody tr th:only-of-type {\n",
       "        vertical-align: middle;\n",
       "    }\n",
       "\n",
       "    .dataframe tbody tr th {\n",
       "        vertical-align: top;\n",
       "    }\n",
       "\n",
       "    .dataframe thead th {\n",
       "        text-align: right;\n",
       "    }\n",
       "</style>\n",
       "<table border=\"1\" class=\"dataframe\">\n",
       "  <thead>\n",
       "    <tr style=\"text-align: right;\">\n",
       "      <th></th>\n",
       "      <th>id</th>\n",
       "      <th>country</th>\n",
       "      <th>store</th>\n",
       "      <th>product</th>\n",
       "      <th>num_sold</th>\n",
       "      <th>year</th>\n",
       "      <th>month</th>\n",
       "      <th>day</th>\n",
       "      <th>day_of_week</th>\n",
       "    </tr>\n",
       "  </thead>\n",
       "  <tbody>\n",
       "    <tr>\n",
       "      <th>1</th>\n",
       "      <td>1</td>\n",
       "      <td>0</td>\n",
       "      <td>0</td>\n",
       "      <td>1</td>\n",
       "      <td>973.0</td>\n",
       "      <td>2010</td>\n",
       "      <td>1</td>\n",
       "      <td>1</td>\n",
       "      <td>4</td>\n",
       "    </tr>\n",
       "    <tr>\n",
       "      <th>2</th>\n",
       "      <td>2</td>\n",
       "      <td>0</td>\n",
       "      <td>0</td>\n",
       "      <td>2</td>\n",
       "      <td>906.0</td>\n",
       "      <td>2010</td>\n",
       "      <td>1</td>\n",
       "      <td>1</td>\n",
       "      <td>4</td>\n",
       "    </tr>\n",
       "    <tr>\n",
       "      <th>3</th>\n",
       "      <td>3</td>\n",
       "      <td>0</td>\n",
       "      <td>0</td>\n",
       "      <td>3</td>\n",
       "      <td>423.0</td>\n",
       "      <td>2010</td>\n",
       "      <td>1</td>\n",
       "      <td>1</td>\n",
       "      <td>4</td>\n",
       "    </tr>\n",
       "    <tr>\n",
       "      <th>4</th>\n",
       "      <td>4</td>\n",
       "      <td>0</td>\n",
       "      <td>0</td>\n",
       "      <td>4</td>\n",
       "      <td>491.0</td>\n",
       "      <td>2010</td>\n",
       "      <td>1</td>\n",
       "      <td>1</td>\n",
       "      <td>4</td>\n",
       "    </tr>\n",
       "    <tr>\n",
       "      <th>5</th>\n",
       "      <td>5</td>\n",
       "      <td>0</td>\n",
       "      <td>2</td>\n",
       "      <td>0</td>\n",
       "      <td>300.0</td>\n",
       "      <td>2010</td>\n",
       "      <td>1</td>\n",
       "      <td>1</td>\n",
       "      <td>4</td>\n",
       "    </tr>\n",
       "    <tr>\n",
       "      <th>...</th>\n",
       "      <td>...</td>\n",
       "      <td>...</td>\n",
       "      <td>...</td>\n",
       "      <td>...</td>\n",
       "      <td>...</td>\n",
       "      <td>...</td>\n",
       "      <td>...</td>\n",
       "      <td>...</td>\n",
       "      <td>...</td>\n",
       "    </tr>\n",
       "    <tr>\n",
       "      <th>230125</th>\n",
       "      <td>230125</td>\n",
       "      <td>5</td>\n",
       "      <td>1</td>\n",
       "      <td>0</td>\n",
       "      <td>466.0</td>\n",
       "      <td>2016</td>\n",
       "      <td>12</td>\n",
       "      <td>31</td>\n",
       "      <td>5</td>\n",
       "    </tr>\n",
       "    <tr>\n",
       "      <th>230126</th>\n",
       "      <td>230126</td>\n",
       "      <td>5</td>\n",
       "      <td>1</td>\n",
       "      <td>1</td>\n",
       "      <td>2907.0</td>\n",
       "      <td>2016</td>\n",
       "      <td>12</td>\n",
       "      <td>31</td>\n",
       "      <td>5</td>\n",
       "    </tr>\n",
       "    <tr>\n",
       "      <th>230127</th>\n",
       "      <td>230127</td>\n",
       "      <td>5</td>\n",
       "      <td>1</td>\n",
       "      <td>2</td>\n",
       "      <td>2299.0</td>\n",
       "      <td>2016</td>\n",
       "      <td>12</td>\n",
       "      <td>31</td>\n",
       "      <td>5</td>\n",
       "    </tr>\n",
       "    <tr>\n",
       "      <th>230128</th>\n",
       "      <td>230128</td>\n",
       "      <td>5</td>\n",
       "      <td>1</td>\n",
       "      <td>3</td>\n",
       "      <td>1242.0</td>\n",
       "      <td>2016</td>\n",
       "      <td>12</td>\n",
       "      <td>31</td>\n",
       "      <td>5</td>\n",
       "    </tr>\n",
       "    <tr>\n",
       "      <th>230129</th>\n",
       "      <td>230129</td>\n",
       "      <td>5</td>\n",
       "      <td>1</td>\n",
       "      <td>4</td>\n",
       "      <td>1622.0</td>\n",
       "      <td>2016</td>\n",
       "      <td>12</td>\n",
       "      <td>31</td>\n",
       "      <td>5</td>\n",
       "    </tr>\n",
       "  </tbody>\n",
       "</table>\n",
       "<p>221259 rows × 9 columns</p>\n",
       "</div>"
      ],
      "text/plain": [
       "            id  country  store  product  num_sold  year  month  day  \\\n",
       "1            1        0      0        1     973.0  2010      1    1   \n",
       "2            2        0      0        2     906.0  2010      1    1   \n",
       "3            3        0      0        3     423.0  2010      1    1   \n",
       "4            4        0      0        4     491.0  2010      1    1   \n",
       "5            5        0      2        0     300.0  2010      1    1   \n",
       "...        ...      ...    ...      ...       ...   ...    ...  ...   \n",
       "230125  230125        5      1        0     466.0  2016     12   31   \n",
       "230126  230126        5      1        1    2907.0  2016     12   31   \n",
       "230127  230127        5      1        2    2299.0  2016     12   31   \n",
       "230128  230128        5      1        3    1242.0  2016     12   31   \n",
       "230129  230129        5      1        4    1622.0  2016     12   31   \n",
       "\n",
       "        day_of_week  \n",
       "1                 4  \n",
       "2                 4  \n",
       "3                 4  \n",
       "4                 4  \n",
       "5                 4  \n",
       "...             ...  \n",
       "230125            5  \n",
       "230126            5  \n",
       "230127            5  \n",
       "230128            5  \n",
       "230129            5  \n",
       "\n",
       "[221259 rows x 9 columns]"
      ]
     },
     "execution_count": 37,
     "metadata": {},
     "output_type": "execute_result"
    }
   ],
   "source": [
    "train_preprocessed"
   ]
  },
  {
   "cell_type": "code",
   "execution_count": 38,
   "id": "f9dabad7",
   "metadata": {
    "execution": {
     "iopub.execute_input": "2025-03-16T13:21:33.443618Z",
     "iopub.status.busy": "2025-03-16T13:21:33.443202Z",
     "iopub.status.idle": "2025-03-16T13:21:33.617027Z",
     "shell.execute_reply": "2025-03-16T13:21:33.616002Z"
    },
    "papermill": {
     "duration": 0.194907,
     "end_time": "2025-03-16T13:21:33.618784",
     "exception": false,
     "start_time": "2025-03-16T13:21:33.423877",
     "status": "completed"
    },
    "tags": []
   },
   "outputs": [
    {
     "data": {
      "text/plain": [
       "((165944, 8), (55315, 8), (165944,), (55315,))"
      ]
     },
     "execution_count": 38,
     "metadata": {},
     "output_type": "execute_result"
    }
   ],
   "source": [
    "from sklearn.model_selection import train_test_split\n",
    "y = train_preprocessed.num_sold\n",
    "X = train_preprocessed.drop(['num_sold'], axis=1)\n",
    "\n",
    "X_train, X_test, y_train, y_test = train_test_split(X, y, shuffle=True, random_state=4234201)\n",
    "X_train.shape, X_test.shape, y_train.shape, y_test.shape "
   ]
  },
  {
   "cell_type": "code",
   "execution_count": 39,
   "id": "714eb3ae",
   "metadata": {
    "execution": {
     "iopub.execute_input": "2025-03-16T13:21:33.657986Z",
     "iopub.status.busy": "2025-03-16T13:21:33.657535Z",
     "iopub.status.idle": "2025-03-16T13:21:33.670770Z",
     "shell.execute_reply": "2025-03-16T13:21:33.669656Z"
    },
    "papermill": {
     "duration": 0.035434,
     "end_time": "2025-03-16T13:21:33.672513",
     "exception": false,
     "start_time": "2025-03-16T13:21:33.637079",
     "status": "completed"
    },
    "tags": []
   },
   "outputs": [
    {
     "data": {
      "text/html": [
       "<div>\n",
       "<style scoped>\n",
       "    .dataframe tbody tr th:only-of-type {\n",
       "        vertical-align: middle;\n",
       "    }\n",
       "\n",
       "    .dataframe tbody tr th {\n",
       "        vertical-align: top;\n",
       "    }\n",
       "\n",
       "    .dataframe thead th {\n",
       "        text-align: right;\n",
       "    }\n",
       "</style>\n",
       "<table border=\"1\" class=\"dataframe\">\n",
       "  <thead>\n",
       "    <tr style=\"text-align: right;\">\n",
       "      <th></th>\n",
       "      <th>id</th>\n",
       "      <th>country</th>\n",
       "      <th>store</th>\n",
       "      <th>product</th>\n",
       "      <th>year</th>\n",
       "      <th>month</th>\n",
       "      <th>day</th>\n",
       "      <th>day_of_week</th>\n",
       "    </tr>\n",
       "  </thead>\n",
       "  <tbody>\n",
       "    <tr>\n",
       "      <th>102114</th>\n",
       "      <td>102114</td>\n",
       "      <td>3</td>\n",
       "      <td>2</td>\n",
       "      <td>4</td>\n",
       "      <td>2013</td>\n",
       "      <td>2</td>\n",
       "      <td>8</td>\n",
       "      <td>4</td>\n",
       "    </tr>\n",
       "    <tr>\n",
       "      <th>178186</th>\n",
       "      <td>178186</td>\n",
       "      <td>5</td>\n",
       "      <td>0</td>\n",
       "      <td>1</td>\n",
       "      <td>2015</td>\n",
       "      <td>6</td>\n",
       "      <td>3</td>\n",
       "      <td>2</td>\n",
       "    </tr>\n",
       "    <tr>\n",
       "      <th>53102</th>\n",
       "      <td>53102</td>\n",
       "      <td>0</td>\n",
       "      <td>0</td>\n",
       "      <td>2</td>\n",
       "      <td>2011</td>\n",
       "      <td>8</td>\n",
       "      <td>14</td>\n",
       "      <td>6</td>\n",
       "    </tr>\n",
       "    <tr>\n",
       "      <th>9001</th>\n",
       "      <td>9001</td>\n",
       "      <td>0</td>\n",
       "      <td>0</td>\n",
       "      <td>1</td>\n",
       "      <td>2010</td>\n",
       "      <td>4</td>\n",
       "      <td>11</td>\n",
       "      <td>6</td>\n",
       "    </tr>\n",
       "    <tr>\n",
       "      <th>124050</th>\n",
       "      <td>124050</td>\n",
       "      <td>2</td>\n",
       "      <td>0</td>\n",
       "      <td>0</td>\n",
       "      <td>2013</td>\n",
       "      <td>10</td>\n",
       "      <td>10</td>\n",
       "      <td>3</td>\n",
       "    </tr>\n",
       "    <tr>\n",
       "      <th>...</th>\n",
       "      <td>...</td>\n",
       "      <td>...</td>\n",
       "      <td>...</td>\n",
       "      <td>...</td>\n",
       "      <td>...</td>\n",
       "      <td>...</td>\n",
       "      <td>...</td>\n",
       "      <td>...</td>\n",
       "    </tr>\n",
       "    <tr>\n",
       "      <th>176889</th>\n",
       "      <td>176889</td>\n",
       "      <td>2</td>\n",
       "      <td>2</td>\n",
       "      <td>4</td>\n",
       "      <td>2015</td>\n",
       "      <td>5</td>\n",
       "      <td>20</td>\n",
       "      <td>2</td>\n",
       "    </tr>\n",
       "    <tr>\n",
       "      <th>211620</th>\n",
       "      <td>211620</td>\n",
       "      <td>2</td>\n",
       "      <td>0</td>\n",
       "      <td>0</td>\n",
       "      <td>2016</td>\n",
       "      <td>6</td>\n",
       "      <td>9</td>\n",
       "      <td>3</td>\n",
       "    </tr>\n",
       "    <tr>\n",
       "      <th>63549</th>\n",
       "      <td>63549</td>\n",
       "      <td>0</td>\n",
       "      <td>2</td>\n",
       "      <td>4</td>\n",
       "      <td>2011</td>\n",
       "      <td>12</td>\n",
       "      <td>8</td>\n",
       "      <td>3</td>\n",
       "    </tr>\n",
       "    <tr>\n",
       "      <th>117051</th>\n",
       "      <td>117051</td>\n",
       "      <td>3</td>\n",
       "      <td>2</td>\n",
       "      <td>1</td>\n",
       "      <td>2013</td>\n",
       "      <td>7</td>\n",
       "      <td>24</td>\n",
       "      <td>2</td>\n",
       "    </tr>\n",
       "    <tr>\n",
       "      <th>65281</th>\n",
       "      <td>65281</td>\n",
       "      <td>2</td>\n",
       "      <td>0</td>\n",
       "      <td>1</td>\n",
       "      <td>2011</td>\n",
       "      <td>12</td>\n",
       "      <td>27</td>\n",
       "      <td>1</td>\n",
       "    </tr>\n",
       "  </tbody>\n",
       "</table>\n",
       "<p>165944 rows × 8 columns</p>\n",
       "</div>"
      ],
      "text/plain": [
       "            id  country  store  product  year  month  day  day_of_week\n",
       "102114  102114        3      2        4  2013      2    8            4\n",
       "178186  178186        5      0        1  2015      6    3            2\n",
       "53102    53102        0      0        2  2011      8   14            6\n",
       "9001      9001        0      0        1  2010      4   11            6\n",
       "124050  124050        2      0        0  2013     10   10            3\n",
       "...        ...      ...    ...      ...   ...    ...  ...          ...\n",
       "176889  176889        2      2        4  2015      5   20            2\n",
       "211620  211620        2      0        0  2016      6    9            3\n",
       "63549    63549        0      2        4  2011     12    8            3\n",
       "117051  117051        3      2        1  2013      7   24            2\n",
       "65281    65281        2      0        1  2011     12   27            1\n",
       "\n",
       "[165944 rows x 8 columns]"
      ]
     },
     "execution_count": 39,
     "metadata": {},
     "output_type": "execute_result"
    }
   ],
   "source": [
    "X_train"
   ]
  },
  {
   "cell_type": "markdown",
   "id": "657452dc",
   "metadata": {
    "papermill": {
     "duration": 0.019331,
     "end_time": "2025-03-16T13:21:33.710875",
     "exception": false,
     "start_time": "2025-03-16T13:21:33.691544",
     "status": "completed"
    },
    "tags": []
   },
   "source": [
    "### Apply Linear Regression"
   ]
  },
  {
   "cell_type": "code",
   "execution_count": 40,
   "id": "04c6db89",
   "metadata": {
    "execution": {
     "iopub.execute_input": "2025-03-16T13:21:33.749319Z",
     "iopub.status.busy": "2025-03-16T13:21:33.748950Z",
     "iopub.status.idle": "2025-03-16T13:21:34.015981Z",
     "shell.execute_reply": "2025-03-16T13:21:34.014850Z"
    },
    "papermill": {
     "duration": 0.28832,
     "end_time": "2025-03-16T13:21:34.017717",
     "exception": false,
     "start_time": "2025-03-16T13:21:33.729397",
     "status": "completed"
    },
    "tags": []
   },
   "outputs": [
    {
     "data": {
      "text/plain": [
       "(0.08153985891832594, 0.0814592465656353)"
      ]
     },
     "execution_count": 40,
     "metadata": {},
     "output_type": "execute_result"
    }
   ],
   "source": [
    "from sklearn.linear_model import LinearRegression\n",
    "lin_reg = LinearRegression().fit(X_train, y_train)\n",
    "lin_reg.score(X_train, y_train), lin_reg.score(X_test, y_test)"
   ]
  },
  {
   "cell_type": "code",
   "execution_count": 41,
   "id": "56cac9e5",
   "metadata": {
    "execution": {
     "iopub.execute_input": "2025-03-16T13:21:34.058856Z",
     "iopub.status.busy": "2025-03-16T13:21:34.058429Z",
     "iopub.status.idle": "2025-03-16T13:21:34.734940Z",
     "shell.execute_reply": "2025-03-16T13:21:34.733529Z"
    },
    "papermill": {
     "duration": 0.697923,
     "end_time": "2025-03-16T13:21:34.736899",
     "exception": false,
     "start_time": "2025-03-16T13:21:34.038976",
     "status": "completed"
    },
    "tags": []
   },
   "outputs": [
    {
     "data": {
      "text/plain": [
       "0.33178413599198087"
      ]
     },
     "execution_count": 41,
     "metadata": {},
     "output_type": "execute_result"
    }
   ],
   "source": [
    "from sklearn.pipeline import make_pipeline\n",
    "from sklearn.preprocessing import PolynomialFeatures\n",
    "pipe = make_pipeline(\n",
    "    PolynomialFeatures(2), LinearRegression()\n",
    ")\n",
    "pipe.fit(X_train, y_train).score(X_test, y_test)"
   ]
  },
  {
   "cell_type": "code",
   "execution_count": 42,
   "id": "45c00784",
   "metadata": {
    "execution": {
     "iopub.execute_input": "2025-03-16T13:21:34.777824Z",
     "iopub.status.busy": "2025-03-16T13:21:34.777343Z",
     "iopub.status.idle": "2025-03-16T13:21:34.871872Z",
     "shell.execute_reply": "2025-03-16T13:21:34.870848Z"
    },
    "papermill": {
     "duration": 0.116068,
     "end_time": "2025-03-16T13:21:34.873846",
     "exception": false,
     "start_time": "2025-03-16T13:21:34.757778",
     "status": "completed"
    },
    "tags": []
   },
   "outputs": [],
   "source": [
    "preds = pipe.predict(test_preprocessed)"
   ]
  },
  {
   "cell_type": "code",
   "execution_count": 43,
   "id": "52684787",
   "metadata": {
    "execution": {
     "iopub.execute_input": "2025-03-16T13:21:34.913814Z",
     "iopub.status.busy": "2025-03-16T13:21:34.913356Z",
     "iopub.status.idle": "2025-03-16T13:21:34.919271Z",
     "shell.execute_reply": "2025-03-16T13:21:34.918396Z"
    },
    "papermill": {
     "duration": 0.027433,
     "end_time": "2025-03-16T13:21:34.920924",
     "exception": false,
     "start_time": "2025-03-16T13:21:34.893491",
     "status": "completed"
    },
    "tags": []
   },
   "outputs": [
    {
     "data": {
      "text/plain": [
       "(98550, 98550)"
      ]
     },
     "execution_count": 43,
     "metadata": {},
     "output_type": "execute_result"
    }
   ],
   "source": [
    "len(preds),len(test_preprocessed)"
   ]
  },
  {
   "cell_type": "markdown",
   "id": "d5cc13d7",
   "metadata": {
    "papermill": {
     "duration": 0.018786,
     "end_time": "2025-03-16T13:21:34.958932",
     "exception": false,
     "start_time": "2025-03-16T13:21:34.940146",
     "status": "completed"
    },
    "tags": []
   },
   "source": [
    "Create DataFrame"
   ]
  },
  {
   "cell_type": "code",
   "execution_count": 44,
   "id": "89f4fe0f",
   "metadata": {
    "execution": {
     "iopub.execute_input": "2025-03-16T13:21:34.997745Z",
     "iopub.status.busy": "2025-03-16T13:21:34.997333Z",
     "iopub.status.idle": "2025-03-16T13:21:35.002108Z",
     "shell.execute_reply": "2025-03-16T13:21:35.001047Z"
    },
    "papermill": {
     "duration": 0.025874,
     "end_time": "2025-03-16T13:21:35.003687",
     "exception": false,
     "start_time": "2025-03-16T13:21:34.977813",
     "status": "completed"
    },
    "tags": []
   },
   "outputs": [],
   "source": [
    "results = pd.DataFrame()"
   ]
  },
  {
   "cell_type": "code",
   "execution_count": 45,
   "id": "e9fe8754",
   "metadata": {
    "execution": {
     "iopub.execute_input": "2025-03-16T13:21:35.043503Z",
     "iopub.status.busy": "2025-03-16T13:21:35.043171Z",
     "iopub.status.idle": "2025-03-16T13:21:35.050768Z",
     "shell.execute_reply": "2025-03-16T13:21:35.049774Z"
    },
    "papermill": {
     "duration": 0.029875,
     "end_time": "2025-03-16T13:21:35.052543",
     "exception": false,
     "start_time": "2025-03-16T13:21:35.022668",
     "status": "completed"
    },
    "tags": []
   },
   "outputs": [],
   "source": [
    "results['id'] = test_preprocessed.id"
   ]
  },
  {
   "cell_type": "code",
   "execution_count": 46,
   "id": "116f1258",
   "metadata": {
    "execution": {
     "iopub.execute_input": "2025-03-16T13:21:35.091334Z",
     "iopub.status.busy": "2025-03-16T13:21:35.090953Z",
     "iopub.status.idle": "2025-03-16T13:21:35.096227Z",
     "shell.execute_reply": "2025-03-16T13:21:35.095217Z"
    },
    "papermill": {
     "duration": 0.026559,
     "end_time": "2025-03-16T13:21:35.097904",
     "exception": false,
     "start_time": "2025-03-16T13:21:35.071345",
     "status": "completed"
    },
    "tags": []
   },
   "outputs": [],
   "source": [
    "results['num_sold'] = preds"
   ]
  },
  {
   "cell_type": "code",
   "execution_count": 47,
   "id": "9110b27d",
   "metadata": {
    "execution": {
     "iopub.execute_input": "2025-03-16T13:21:35.137696Z",
     "iopub.status.busy": "2025-03-16T13:21:35.137315Z",
     "iopub.status.idle": "2025-03-16T13:21:35.146625Z",
     "shell.execute_reply": "2025-03-16T13:21:35.145753Z"
    },
    "papermill": {
     "duration": 0.03083,
     "end_time": "2025-03-16T13:21:35.148137",
     "exception": false,
     "start_time": "2025-03-16T13:21:35.117307",
     "status": "completed"
    },
    "tags": []
   },
   "outputs": [
    {
     "data": {
      "text/html": [
       "<div>\n",
       "<style scoped>\n",
       "    .dataframe tbody tr th:only-of-type {\n",
       "        vertical-align: middle;\n",
       "    }\n",
       "\n",
       "    .dataframe tbody tr th {\n",
       "        vertical-align: top;\n",
       "    }\n",
       "\n",
       "    .dataframe thead th {\n",
       "        text-align: right;\n",
       "    }\n",
       "</style>\n",
       "<table border=\"1\" class=\"dataframe\">\n",
       "  <thead>\n",
       "    <tr style=\"text-align: right;\">\n",
       "      <th></th>\n",
       "      <th>id</th>\n",
       "      <th>num_sold</th>\n",
       "    </tr>\n",
       "  </thead>\n",
       "  <tbody>\n",
       "    <tr>\n",
       "      <th>0</th>\n",
       "      <td>230130</td>\n",
       "      <td>139.260333</td>\n",
       "    </tr>\n",
       "    <tr>\n",
       "      <th>1</th>\n",
       "      <td>230131</td>\n",
       "      <td>623.738513</td>\n",
       "    </tr>\n",
       "    <tr>\n",
       "      <th>2</th>\n",
       "      <td>230132</td>\n",
       "      <td>803.976305</td>\n",
       "    </tr>\n",
       "    <tr>\n",
       "      <th>3</th>\n",
       "      <td>230133</td>\n",
       "      <td>679.973711</td>\n",
       "    </tr>\n",
       "    <tr>\n",
       "      <th>4</th>\n",
       "      <td>230134</td>\n",
       "      <td>251.730730</td>\n",
       "    </tr>\n",
       "    <tr>\n",
       "      <th>...</th>\n",
       "      <td>...</td>\n",
       "      <td>...</td>\n",
       "    </tr>\n",
       "    <tr>\n",
       "      <th>98545</th>\n",
       "      <td>328675</td>\n",
       "      <td>573.452817</td>\n",
       "    </tr>\n",
       "    <tr>\n",
       "      <th>98546</th>\n",
       "      <td>328676</td>\n",
       "      <td>1052.680834</td>\n",
       "    </tr>\n",
       "    <tr>\n",
       "      <th>98547</th>\n",
       "      <td>328677</td>\n",
       "      <td>1227.668465</td>\n",
       "    </tr>\n",
       "    <tr>\n",
       "      <th>98548</th>\n",
       "      <td>328678</td>\n",
       "      <td>1098.415709</td>\n",
       "    </tr>\n",
       "    <tr>\n",
       "      <th>98549</th>\n",
       "      <td>328679</td>\n",
       "      <td>664.922567</td>\n",
       "    </tr>\n",
       "  </tbody>\n",
       "</table>\n",
       "<p>98550 rows × 2 columns</p>\n",
       "</div>"
      ],
      "text/plain": [
       "           id     num_sold\n",
       "0      230130   139.260333\n",
       "1      230131   623.738513\n",
       "2      230132   803.976305\n",
       "3      230133   679.973711\n",
       "4      230134   251.730730\n",
       "...       ...          ...\n",
       "98545  328675   573.452817\n",
       "98546  328676  1052.680834\n",
       "98547  328677  1227.668465\n",
       "98548  328678  1098.415709\n",
       "98549  328679   664.922567\n",
       "\n",
       "[98550 rows x 2 columns]"
      ]
     },
     "execution_count": 47,
     "metadata": {},
     "output_type": "execute_result"
    }
   ],
   "source": [
    "results"
   ]
  },
  {
   "cell_type": "code",
   "execution_count": 48,
   "id": "07824ae0",
   "metadata": {
    "execution": {
     "iopub.execute_input": "2025-03-16T13:21:35.188275Z",
     "iopub.status.busy": "2025-03-16T13:21:35.187936Z",
     "iopub.status.idle": "2025-03-16T13:21:35.413007Z",
     "shell.execute_reply": "2025-03-16T13:21:35.411961Z"
    },
    "papermill": {
     "duration": 0.24749,
     "end_time": "2025-03-16T13:21:35.414916",
     "exception": false,
     "start_time": "2025-03-16T13:21:35.167426",
     "status": "completed"
    },
    "tags": []
   },
   "outputs": [],
   "source": [
    "results.to_csv(\"result_01.csv\")"
   ]
  },
  {
   "cell_type": "markdown",
   "id": "500422f5",
   "metadata": {
    "papermill": {
     "duration": 0.018944,
     "end_time": "2025-03-16T13:21:35.453483",
     "exception": false,
     "start_time": "2025-03-16T13:21:35.434539",
     "status": "completed"
    },
    "tags": []
   },
   "source": [
    "### Apply UMAP"
   ]
  },
  {
   "cell_type": "code",
   "execution_count": 49,
   "id": "b445b20f",
   "metadata": {
    "execution": {
     "iopub.execute_input": "2025-03-16T13:21:35.493187Z",
     "iopub.status.busy": "2025-03-16T13:21:35.492849Z",
     "iopub.status.idle": "2025-03-16T13:21:43.249044Z",
     "shell.execute_reply": "2025-03-16T13:21:43.247802Z"
    },
    "papermill": {
     "duration": 7.778267,
     "end_time": "2025-03-16T13:21:43.250971",
     "exception": false,
     "start_time": "2025-03-16T13:21:35.472704",
     "status": "completed"
    },
    "tags": []
   },
   "outputs": [
    {
     "name": "stdout",
     "output_type": "stream",
     "text": [
      "Collecting umap\r\n",
      "  Downloading umap-0.1.1.tar.gz (3.2 kB)\r\n",
      "  Preparing metadata (setup.py) ... \u001b[?25l\u001b[?25hdone\r\n",
      "Building wheels for collected packages: umap\r\n",
      "  Building wheel for umap (setup.py) ... \u001b[?25l\u001b[?25hdone\r\n",
      "  Created wheel for umap: filename=umap-0.1.1-py3-none-any.whl size=3542 sha256=b4f0368e481df0903041f8910562c2e772b8821cadfd1ee656871341fd3fac5d\r\n",
      "  Stored in directory: /root/.cache/pip/wheels/15/f1/28/53dcf7a309118ed35d810a5f9cb995217800f3f269ab5771cb\r\n",
      "Successfully built umap\r\n",
      "Installing collected packages: umap\r\n",
      "Successfully installed umap-0.1.1\r\n"
     ]
    }
   ],
   "source": [
    "try:\n",
    "    import umap\n",
    "except:\n",
    "    !pip install umap\n",
    "    import umap"
   ]
  },
  {
   "cell_type": "code",
   "execution_count": null,
   "id": "640dcf4f",
   "metadata": {
    "papermill": {
     "duration": 0.01889,
     "end_time": "2025-03-16T13:21:43.289384",
     "exception": false,
     "start_time": "2025-03-16T13:21:43.270494",
     "status": "completed"
    },
    "tags": []
   },
   "outputs": [],
   "source": []
  }
 ],
 "metadata": {
  "kaggle": {
   "accelerator": "none",
   "dataSources": [
    {
     "databundleVersionId": 10652996,
     "sourceId": 85723,
     "sourceType": "competition"
    }
   ],
   "dockerImageVersionId": 30839,
   "isGpuEnabled": false,
   "isInternetEnabled": true,
   "language": "python",
   "sourceType": "notebook"
  },
  "kernelspec": {
   "display_name": "Python 3",
   "language": "python",
   "name": "python3"
  },
  "language_info": {
   "codemirror_mode": {
    "name": "ipython",
    "version": 3
   },
   "file_extension": ".py",
   "mimetype": "text/x-python",
   "name": "python",
   "nbconvert_exporter": "python",
   "pygments_lexer": "ipython3",
   "version": "3.10.12"
  },
  "papermill": {
   "default_parameters": {},
   "duration": 149.169707,
   "end_time": "2025-03-16T13:21:44.229858",
   "environment_variables": {},
   "exception": null,
   "input_path": "__notebook__.ipynb",
   "output_path": "__notebook__.ipynb",
   "parameters": {},
   "start_time": "2025-03-16T13:19:15.060151",
   "version": "2.6.0"
  }
 },
 "nbformat": 4,
 "nbformat_minor": 5
}
